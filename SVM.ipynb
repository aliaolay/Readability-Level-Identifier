{
 "cells": [
  {
   "cell_type": "code",
   "execution_count": 1,
   "metadata": {},
   "outputs": [],
   "source": [
    "from sklearn import svm\n",
    "from sklearn.svm import SVC\n",
    "from sklearn.preprocessing import LabelEncoder, StandardScaler\n",
    "from sklearn.model_selection import train_test_split\n",
    "from sklearn.metrics import accuracy_score\n",
    "from sklearn.metrics import f1_score\n",
    "import pandas as pd\n",
    "import os\n",
    "from os import path\n",
    "import numpy as np"
   ]
  },
  {
   "cell_type": "code",
   "execution_count": 3,
   "metadata": {},
   "outputs": [
    {
     "ename": "NameError",
     "evalue": "name 'pandas' is not defined",
     "output_type": "error",
     "traceback": [
      "\u001b[0;31m---------------------------------------------------------------------------\u001b[0m",
      "\u001b[0;31mNameError\u001b[0m                                 Traceback (most recent call last)",
      "\u001b[0;32m/var/folders/9s/5sgjr40n0b397mv4l6txw2n00000gn/T/ipykernel_1402/2755335824.py\u001b[0m in \u001b[0;36m<module>\u001b[0;34m\u001b[0m\n\u001b[1;32m      2\u001b[0m \u001b[0;31m#SOURCE: https://databasetown.com/implementing-support-vector-machine-svm-in-python/\u001b[0m\u001b[0;34m\u001b[0m\u001b[0;34m\u001b[0m\u001b[0m\n\u001b[1;32m      3\u001b[0m \u001b[0mpath\u001b[0m \u001b[0;34m=\u001b[0m \u001b[0mpath\u001b[0m \u001b[0;34m=\u001b[0m \u001b[0mos\u001b[0m\u001b[0;34m.\u001b[0m\u001b[0mgetcwd\u001b[0m\u001b[0;34m(\u001b[0m\u001b[0;34m)\u001b[0m\u001b[0;34m\u001b[0m\u001b[0;34m\u001b[0m\u001b[0m\n\u001b[0;32m----> 4\u001b[0;31m \u001b[0mtext_features\u001b[0m \u001b[0;34m=\u001b[0m \u001b[0mpandas\u001b[0m\u001b[0;34m.\u001b[0m\u001b[0mread_csv\u001b[0m\u001b[0;34m(\u001b[0m\u001b[0mpath\u001b[0m \u001b[0;34m+\u001b[0m \u001b[0;34m\"/extracted_TRAD_LEX.csv\"\u001b[0m\u001b[0;34m)\u001b[0m\u001b[0;34m\u001b[0m\u001b[0;34m\u001b[0m\u001b[0m\n\u001b[0m\u001b[1;32m      5\u001b[0m text_features_header = [\"Word Count\", \"Sentence Count\", \"Ave. Word Length\", \"Ave. Sentence Length\", \"Total Syllables\", \"Noun-Token Ratio\",\n\u001b[1;32m      6\u001b[0m                         \u001b[0;34m\"Verb-Token Ratio\"\u001b[0m\u001b[0;34m,\u001b[0m \u001b[0;34m\"Type-Token Ratio\"\u001b[0m\u001b[0;34m,\u001b[0m \u001b[0;34m\"Root TTR\"\u001b[0m\u001b[0;34m,\u001b[0m \u001b[0;34m\"Corrected TTR\"\u001b[0m\u001b[0;34m,\u001b[0m \u001b[0;34m\"Bilogarithmic TTR\"\u001b[0m\u001b[0;34m,\u001b[0m \u001b[0;34m\"Lexical Density\"\u001b[0m\u001b[0;34m,\u001b[0m\u001b[0;34m\u001b[0m\u001b[0;34m\u001b[0m\u001b[0m\n",
      "\u001b[0;31mNameError\u001b[0m: name 'pandas' is not defined"
     ]
    }
   ],
   "source": [
    "#SOURCE: https://stackoverflow.com/questions/54820210/how-to-train-svm-model-in-sklearn-python-by-input-csv-file\n",
    "#SOURCE: https://databasetown.com/implementing-support-vector-machine-svm-in-python/\n",
    "path = path = os.getcwd()\n",
    "text_features = pandas.read_csv(path + \"/extracted_TRAD_LEX.csv\")\n",
    "text_features_header = [\"Word Count\", \"Sentence Count\", \"Ave. Word Length\", \"Ave. Sentence Length\", \"Total Syllables\", \"Noun-Token Ratio\",\n",
    "                        \"Verb-Token Ratio\", \"Type-Token Ratio\", \"Root TTR\", \"Corrected TTR\", \"Bilogarithmic TTR\", \"Lexical Density\",\n",
    "                        \"FW-Token Ratio\", \"Age Classification\"]\n",
    "\n",
    "text_features\n"
   ]
  },
  {
   "cell_type": "code",
   "execution_count": 35,
   "metadata": {},
   "outputs": [
    {
     "name": "stdout",
     "output_type": "stream",
     "text": [
      "[[1.17700000e+03 1.37000000e+02 5.00753138e+00 1.08832117e+01\n",
      "  2.49100000e+03 1.78176796e-01 1.04972376e-01 7.59668508e-03\n",
      "  2.89073582e-01 2.04405890e-01 3.29474514e-01 3.81906077e-01\n",
      "  1.65745856e-02]\n",
      " [9.73000000e+02 8.50000000e+01 5.21638018e+00 1.38235294e+01\n",
      "  2.09600000e+03 2.12914485e-01 1.13438045e-01 9.59860384e-03\n",
      "  3.24937905e-01 2.29765796e-01 3.40415116e-01 4.03141361e-01\n",
      "  1.74520070e-02]\n",
      " [1.36500000e+03 1.32000000e+02 4.94516595e+00 1.23939394e+01\n",
      "  2.89600000e+03 1.91082803e-01 1.34394904e-01 7.00636943e-03\n",
      "  2.77614956e-01 1.96303418e-01 3.25852748e-01 4.07643312e-01\n",
      "  1.21019108e-02]\n",
      " [9.00000000e+02 7.20000000e+01 4.79347826e+00 1.50972222e+01\n",
      "  1.84400000e+03 1.36999068e-01 1.05312209e-01 1.02516309e-02\n",
      "  3.35809381e-01 2.37453090e-01 3.43625942e-01 3.67194781e-01\n",
      "  3.35507922e-02]\n",
      " [5.52000000e+02 6.90000000e+01 4.98421053e+00 1.02318841e+01\n",
      "  1.17700000e+03 1.29850746e-01 1.29850746e-01 1.64179104e-02\n",
      "  4.24967075e-01 3.00497101e-01 3.68494381e-01 3.74626866e-01\n",
      "  7.46268657e-03]\n",
      " [8.76000000e+02 7.50000000e+01 4.84949833e+00 1.40533333e+01\n",
      "  1.82400000e+03 1.95192308e-01 1.03846154e-01 1.05769231e-02\n",
      "  3.41095520e-01 2.41190955e-01 3.45171090e-01 3.88461538e-01\n",
      "  1.92307692e-03]\n",
      " [1.27900000e+03 9.70000000e+01 4.95919938e+00 1.63195876e+01\n",
      "  2.59600000e+03 1.92617450e-01 1.00000000e-01 7.38255034e-03\n",
      "  2.84970268e-01 2.01504409e-01 3.28185173e-01 4.05369127e-01\n",
      "  1.54362416e-02]\n",
      " [1.60100000e+03 1.20000000e+02 5.32844933e+00 1.58166667e+01\n",
      "  3.61000000e+03 1.75054705e-01 1.43326039e-01 6.01750547e-03\n",
      "  2.57279148e-01 1.81923830e-01 3.19252080e-01 4.07549234e-01\n",
      "  4.37636761e-03]]\n"
     ]
    }
   ],
   "source": [
    "X = text_features[text_features_header[:-1]].values\n",
    "Y = text_features[['Age Classification']].values.ravel()\n",
    "\n",
    "x_train , x_test, y_train, y_test = train_test_split(X, Y, test_size=0.2, random_state=7)\n",
    "\n",
    "rbf = svm.SVC(kernel='rbf', gamma=0.5, C=0.1).fit(x_train, y_train)\n",
    "poly = svm.SVC(kernel='poly', degree=3, C=1).fit(x_train, y_train)\n"
   ]
  },
  {
   "cell_type": "code",
   "execution_count": 36,
   "metadata": {},
   "outputs": [
    {
     "name": "stdout",
     "output_type": "stream",
     "text": [
      "Accuracy (Polynomial Kernel):  0.00\n",
      "F1 (Polynomial Kernel):  0.00\n",
      "Accuracy (RBF Kernel):  0.00\n",
      "F1 (RBF Kernel):  0.00\n"
     ]
    }
   ],
   "source": [
    "poly_pred = poly.predict(x_test)\n",
    "rbf_pred = rbf.predict(x_test)\n",
    "\n",
    "poly_accuracy = accuracy_score(y_test, poly_pred)\n",
    "poly_f1 = f1_score(y_test, poly_pred, average='weighted')\n",
    "print('Accuracy (Polynomial Kernel): ', \"%.2f\" % (poly_accuracy*100))\n",
    "print('F1 (Polynomial Kernel): ', \"%.2f\" % (poly_f1*100))\n",
    "\n",
    "rbf_accuracy = accuracy_score(y_test, rbf_pred)\n",
    "rbf_f1 = f1_score(y_test, rbf_pred, average='weighted')\n",
    "print('Accuracy (RBF Kernel): ', \"%.2f\" % (rbf_accuracy*100))\n",
    "print('F1 (RBF Kernel): ', \"%.2f\" % (rbf_f1*100))"
   ]
  }
 ],
 "metadata": {
  "kernelspec": {
   "display_name": "Python 3",
   "language": "python",
   "name": "python3"
  },
  "language_info": {
   "codemirror_mode": {
    "name": "ipython",
    "version": 3
   },
   "file_extension": ".py",
   "mimetype": "text/x-python",
   "name": "python",
   "nbconvert_exporter": "python",
   "pygments_lexer": "ipython3",
   "version": "3.9.13"
  }
 },
 "nbformat": 4,
 "nbformat_minor": 2
}
