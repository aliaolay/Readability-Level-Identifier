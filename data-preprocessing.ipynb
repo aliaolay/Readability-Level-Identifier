{
 "cells": [
  {
   "cell_type": "markdown",
   "metadata": {},
   "source": [
    "# Data Preprocessing"
   ]
  },
  {
   "cell_type": "code",
   "execution_count": 1,
   "metadata": {},
   "outputs": [],
   "source": [
    "#import libraries\n",
    "\n",
    "import os"
   ]
  },
  {
   "cell_type": "code",
   "execution_count": 2,
   "metadata": {},
   "outputs": [],
   "source": [
    "#set path\n",
    "\n",
    "main_path = os.getcwd()\n",
    "\n",
    "#path to raw txt files\n",
    "raw_path = main_path + \"/raw-txt\"\n",
    "\n",
    "#path to new folder that contains cleaned txt files\n",
    "new_path = main_path + \"/clean-txt\"\n",
    "\n",
    "print(main_path)\n"
   ]
  },
  {
   "cell_type": "code",
   "execution_count": 3,
   "metadata": {},
   "outputs": [
    {
     "name": "stdout",
     "output_type": "stream",
     "text": [
      "Done cleaning.\n"
     ]
    }
   ],
   "source": [
    "# writes content to new file, stripped, and converts all letters to lowercase\n",
    "def read_text_file(file_path):\n",
    "    path, file_name = os.path.split(file_path) # var(file_name) == ... .txt\n",
    "    title = (os.path.splitext(file_name)[0]).removesuffix('_cleaned')\n",
    "    new_file_name = new_path + '/' + title + '_cleaned.txt'\n",
    "    new_file = open(new_file_name, 'w')\n",
    "\n",
    "    with open(file_path, 'r') as file:\n",
    "        for line in file:\n",
    "            cleaned_line = line.strip().lower()\n",
    "            new_file.write(' ' + cleaned_line)\n",
    "            \n",
    "    new_file.close()\n",
    "\n",
    "\n",
    "# iterate through all text files in folder\n",
    "for file in os.listdir(raw_path):\n",
    "\n",
    "    # checks file format\n",
    "    if file.endswith(\".txt\"):\n",
    "        file_path = f\"{raw_path}/{file}\"    # change slash to \\ if working on windows i think?\n",
    "  \n",
    "        read_text_file(file_path)\n",
    "        \n",
    "print(\"Done cleaning.\")"
   ]
  }
 ],
 "metadata": {
  "kernelspec": {
   "display_name": "Python 3",
   "language": "python",
   "name": "python3"
  },
  "language_info": {
   "codemirror_mode": {
    "name": "ipython",
    "version": 3
   },
   "file_extension": ".py",
   "mimetype": "text/x-python",
   "name": "python",
   "nbconvert_exporter": "python",
   "pygments_lexer": "ipython3",
   "version": "3.10.4"
  }
 },
 "nbformat": 4,
 "nbformat_minor": 2
}
