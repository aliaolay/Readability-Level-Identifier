{
 "cells": [
  {
   "cell_type": "markdown",
   "metadata": {},
   "source": [
    "# Data Preprocessing"
   ]
  },
  {
   "cell_type": "code",
   "execution_count": 4,
   "metadata": {},
   "outputs": [],
   "source": [
    "#import libraries\n",
    "\n",
    "import os"
   ]
  },
  {
   "cell_type": "code",
   "execution_count": 5,
   "metadata": {},
   "outputs": [
    {
     "name": "stdout",
     "output_type": "stream",
     "text": [
      "c:\\Users\\Alia\\Documents\\school\\THESIS\\Readability-Level-Identifier\n"
     ]
    }
   ],
   "source": [
    "#set path\n",
    "\n",
    "main_path = os.getcwd()\n",
    "\n",
    "#path to raw txt files\n",
    "raw_path = main_path + \"/raw-txt\"\n",
    "\n",
    "#path to new folder that contains cleaned txt files\n",
    "new_path = main_path + \"/clean-txt\"\n",
    "\n",
    "print(main_path)\n"
   ]
  },
  {
   "cell_type": "code",
   "execution_count": 6,
   "metadata": {},
   "outputs": [
    {
     "name": "stdout",
     "output_type": "stream",
     "text": [
      "File 'Alamat ng Lansones.txt' cleaned and saved as 'Alamat ng Lansones_cleaned.txt'.\n",
      "File 'Andres Bonifacio - 1.txt' cleaned and saved as 'Andres Bonifacio - 1_cleaned.txt'.\n",
      "File 'Andres Bonifacio - 2.txt' cleaned and saved as 'Andres Bonifacio - 2_cleaned.txt'.\n",
      "File 'Ang Aklatang Pusa.txt' cleaned and saved as 'Ang Aklatang Pusa_cleaned.txt'.\n",
      "File 'Ang Anghel ng Santa Ana.txt' cleaned and saved as 'Ang Anghel ng Santa Ana_cleaned.txt'.\n",
      "File 'Ang Ating mga Ninuno - 1.txt' cleaned and saved as 'Ang Ating mga Ninuno - 1_cleaned.txt'.\n",
      "File 'Ang Ating mga Ninuno - 2.txt' cleaned and saved as 'Ang Ating mga Ninuno - 2_cleaned.txt'.\n",
      "File 'Ang Batang Maraming Bawal.txt' cleaned and saved as 'Ang Batang Maraming Bawal_cleaned.txt'.\n",
      "File 'Ang Dyip ni Mang Tomas.txt' cleaned and saved as 'Ang Dyip ni Mang Tomas_cleaned.txt'.\n",
      "File 'Ang Handog ni Alim.txt' cleaned and saved as 'Ang Handog ni Alim_cleaned.txt'.\n",
      "File 'Ang Kalakalang Galleon - 1.txt' cleaned and saved as 'Ang Kalakalang Galleon - 1_cleaned.txt'.\n",
      "File 'Ang Kalakalang Galleon - 2.txt' cleaned and saved as 'Ang Kalakalang Galleon - 2_cleaned.txt'.\n",
      "File 'Ang Kamatis ni Peles.txt' cleaned and saved as 'Ang Kamatis ni Peles_cleaned.txt'.\n",
      "File 'Anim na Daliri.txt' cleaned and saved as 'Anim na Daliri_cleaned.txt'.\n",
      "File 'Antonio Luna - 1.txt' cleaned and saved as 'Antonio Luna - 1_cleaned.txt'.\n",
      "File 'Antonio Luna - 2.txt' cleaned and saved as 'Antonio Luna - 2_cleaned.txt'.\n",
      "File 'Boka-Boka.txt' cleaned and saved as 'Boka-Boka_cleaned.txt'.\n",
      "File 'Ginto ng Mga Igorot - 1.txt' cleaned and saved as 'Ginto ng Mga Igorot - 1_cleaned.txt'.\n",
      "File 'Ginto ng Mga Igorot - 2.txt' cleaned and saved as 'Ginto ng Mga Igorot - 2_cleaned.txt'.\n",
      "File 'Inang Kalikasans Bad Hair Day.txt' cleaned and saved as 'Inang Kalikasans Bad Hair Day_cleaned.txt'.\n",
      "File 'Ipapasyal Namin si Lolo.txt' cleaned and saved as 'Ipapasyal Namin si Lolo_cleaned.txt'.\n",
      "File 'Karapat-Dapat.txt' cleaned and saved as 'Karapat-Dapat_cleaned.txt'.\n",
      "File 'Kilusang Propaganda - 1.txt' cleaned and saved as 'Kilusang Propaganda - 1_cleaned.txt'.\n",
      "File 'Kilusang Propaganda - 2.txt' cleaned and saved as 'Kilusang Propaganda - 2_cleaned.txt'.\n",
      "File 'Si Lupito at ang Barrio Sirkero.txt' cleaned and saved as 'Si Lupito at ang Barrio Sirkero_cleaned.txt'.\n",
      "File 'Si Ponyang at ang Lihim ng Kuweba.txt' cleaned and saved as 'Si Ponyang at ang Lihim ng Kuweba_cleaned.txt'.\n",
      "File 'Tahan na Tahanan.txt' cleaned and saved as 'Tahan na Tahanan_cleaned.txt'.\n",
      "Done cleaning.\n"
     ]
    }
   ],
   "source": [
    "\n",
    "def read_text_file(file_path):\n",
    "    path, file_name = os.path.split(file_path)\n",
    "    title = os.path.splitext(file_name)[0].removesuffix('_cleaned')\n",
    "    new_file_name = os.path.join(new_path, title + '_cleaned.txt')\n",
    "\n",
    "    with open(file_path, 'r', encoding='utf-8-sig') as file:\n",
    "        with open(new_file_name, 'w', encoding='utf-8-sig') as new_file:\n",
    "            first_line = True\n",
    "            for line in file:\n",
    "                cleaned_line = line.strip().lower()\n",
    "                if first_line:\n",
    "                    new_file.write(cleaned_line + '\\n')\n",
    "                    first_line = False\n",
    "                else:\n",
    "                    new_file.write(' ' + cleaned_line)\n",
    "\n",
    "    print(f\"File '{file_name}' cleaned and saved as '{title}_cleaned.txt'.\")\n",
    "\n",
    "\n",
    "# iterate through all text files in folder\n",
    "for file in os.listdir(raw_path):\n",
    "    # checks file format\n",
    "    if file.endswith(\".txt\"):\n",
    "        file_path = os.path.join(raw_path, file)\n",
    "        read_text_file(file_path)\n",
    "\n",
    "print(\"Done cleaning.\")"
   ]
  }
 ],
 "metadata": {
  "kernelspec": {
   "display_name": "Python 3",
   "language": "python",
   "name": "python3"
  },
  "language_info": {
   "codemirror_mode": {
    "name": "ipython",
    "version": 3
   },
   "file_extension": ".py",
   "mimetype": "text/x-python",
   "name": "python",
   "nbconvert_exporter": "python",
   "pygments_lexer": "ipython3",
   "version": "3.10.4"
  }
 },
 "nbformat": 4,
 "nbformat_minor": 2
}
