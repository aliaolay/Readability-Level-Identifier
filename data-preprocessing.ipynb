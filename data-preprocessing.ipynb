{
 "cells": [
  {
   "cell_type": "markdown",
   "metadata": {},
   "source": [
    "# Data Preprocessing"
   ]
  },
  {
   "cell_type": "code",
   "execution_count": 10,
   "metadata": {},
   "outputs": [],
   "source": [
    "#import libraries\n",
    "\n",
    "import os"
   ]
  },
  {
   "cell_type": "code",
   "execution_count": 11,
   "metadata": {},
   "outputs": [
    {
     "name": "stdout",
     "output_type": "stream",
     "text": [
      "c:\\Users\\Alia\\Documents\\school\\THESIS\\Readability-Level-Identifier\n"
     ]
    }
   ],
   "source": [
    "#set path\n",
    "\n",
    "main_path = os.getcwd()\n",
    "\n",
    "#path to raw txt files\n",
    "raw_path = main_path + \"/raw-txt\"\n",
    "\n",
    "#path to new folder that contains cleaned txt files\n",
    "new_path = main_path + \"/clean-txt\"\n",
    "\n",
    "print(main_path)\n"
   ]
  },
  {
   "cell_type": "code",
   "execution_count": 12,
   "metadata": {},
   "outputs": [],
   "source": [
    "import os\n",
    "\n",
    "def read_text_file(file_path):\n",
    "    path, file_name = os.path.split(file_path)\n",
    "    title = os.path.splitext(file_name)[0].removesuffix('_cleaned')\n",
    "    new_file_name = os.path.join(new_path, title + '_cleaned.txt')\n",
    "\n",
    "    with open(file_path, 'r', encoding='utf-8-sig') as file:\n",
    "        with open(new_file_name, 'w', encoding='utf-8-sig') as new_file:\n",
    "            first_line = True\n",
    "            for line in file:\n",
    "                cleaned_line = line.strip().lower()\n",
    "                if first_line:\n",
    "                    new_file.write(cleaned_line + '\\n')\n",
    "                    first_line = False\n",
    "                else:\n",
    "                    new_file.write(cleaned_line)\n",
    "\n",
    "    print(f\"File '{file_name}' cleaned and saved as '{title}_cleaned.txt'.\")\n",
    "    \n",
    "for file in os.listdir(raw_path):\n",
    "    # checks file format\n",
    "    if file.endswith(\".txt\"):\n",
    "        file_path = os.path.join(raw_path, file)\n",
    "        read_text_file(file_path)\n",
    "\n",
    "print(\"Done cleaning.\")\n"
   ]
  }
 ],
 "metadata": {
  "kernelspec": {
   "display_name": "Python 3 (ipykernel)",
   "language": "python",
   "name": "python3"
  },
  "language_info": {
   "codemirror_mode": {
    "name": "ipython",
    "version": 3
   },
   "file_extension": ".py",
   "mimetype": "text/x-python",
   "name": "python",
   "nbconvert_exporter": "python",
   "pygments_lexer": "ipython3",
   "version": "3.10.4"
  }
 },
 "nbformat": 4,
 "nbformat_minor": 4
}
