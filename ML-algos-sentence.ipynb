{
 "cells": [
  {
   "cell_type": "markdown",
   "metadata": {},
   "source": [
    "# Machine Learning Algorithms Testing"
   ]
  },
  {
   "cell_type": "code",
   "execution_count": 80,
   "metadata": {},
   "outputs": [],
   "source": [
    "import os\n",
    "import pandas as pd\n",
    "from os import path\n",
    "import numpy as np\n",
    "\n",
    "\n",
    "from sklearn.model_selection import train_test_split\n",
    "from sklearn.metrics import accuracy_score, confusion_matrix\n",
    "\n",
    "\n",
    "# LR libraries\n",
    "from sklearn.linear_model import LogisticRegression\n",
    "from sklearn.preprocessing import StandardScaler\n",
    "\n",
    "# KNN libraries\n",
    "from sklearn.neighbors import KNeighborsClassifier\n",
    "import matplotlib.pyplot as plt\n",
    "\n",
    "#RF libraries\n",
    "# source - https://www.datacamp.com/tutorial/random-forests-classifier-python\n",
    "from sklearn.ensemble import RandomForestClassifier\n",
    "from sklearn.metrics import precision_score, recall_score, ConfusionMatrixDisplay\n",
    "from sklearn.model_selection import RandomizedSearchCV\n",
    "\n",
    "# SVM libraries\n",
    "from sklearn import svm\n",
    "from sklearn.svm import SVC\n",
    "from sklearn.preprocessing import StandardScaler\n",
    "\n",
    "# DT\n",
    "from sklearn.tree import DecisionTreeClassifier # Import Decision Tree Classifier\n",
    "from sklearn.model_selection import train_test_split # Import train_test_split function\n",
    "from sklearn import metrics #Import scikit-learn metrics module for accuracy calculation\n",
    "\n",
    "# #Ensemble\n",
    "# from mlxtend.classifier import StackingClassifier"
   ]
  },
  {
   "cell_type": "code",
   "execution_count": 9,
   "metadata": {},
   "outputs": [
    {
     "data": {
      "text/html": [
       "<div>\n",
       "<style scoped>\n",
       "    .dataframe tbody tr th:only-of-type {\n",
       "        vertical-align: middle;\n",
       "    }\n",
       "\n",
       "    .dataframe tbody tr th {\n",
       "        vertical-align: top;\n",
       "    }\n",
       "\n",
       "    .dataframe thead th {\n",
       "        text-align: right;\n",
       "    }\n",
       "</style>\n",
       "<table border=\"1\" class=\"dataframe\">\n",
       "  <thead>\n",
       "    <tr style=\"text-align: right;\">\n",
       "      <th></th>\n",
       "      <th>Title</th>\n",
       "      <th>Word Count</th>\n",
       "      <th>AVG Word Length</th>\n",
       "      <th>Total Syllables</th>\n",
       "      <th>MONOSYLL</th>\n",
       "      <th>POLYSYLL</th>\n",
       "      <th>NTR</th>\n",
       "      <th>VTR</th>\n",
       "      <th>TTR</th>\n",
       "      <th>Root TTR</th>\n",
       "      <th>Corrected TTR</th>\n",
       "      <th>BiLog TTR</th>\n",
       "      <th>LD</th>\n",
       "      <th>FWTR</th>\n",
       "      <th>Age Classification</th>\n",
       "    </tr>\n",
       "  </thead>\n",
       "  <tbody>\n",
       "    <tr>\n",
       "      <th>0</th>\n",
       "      <td>0</td>\n",
       "      <td>10</td>\n",
       "      <td>5.100000</td>\n",
       "      <td>21</td>\n",
       "      <td>4</td>\n",
       "      <td>6</td>\n",
       "      <td>0.200000</td>\n",
       "      <td>0.100000</td>\n",
       "      <td>0.600000</td>\n",
       "      <td>1.897367</td>\n",
       "      <td>1.341641</td>\n",
       "      <td>0.778151</td>\n",
       "      <td>0.400000</td>\n",
       "      <td>0.0</td>\n",
       "      <td>8-12</td>\n",
       "    </tr>\n",
       "    <tr>\n",
       "      <th>1</th>\n",
       "      <td>1</td>\n",
       "      <td>15</td>\n",
       "      <td>5.066667</td>\n",
       "      <td>34</td>\n",
       "      <td>4</td>\n",
       "      <td>11</td>\n",
       "      <td>0.266667</td>\n",
       "      <td>0.066667</td>\n",
       "      <td>0.400000</td>\n",
       "      <td>1.549193</td>\n",
       "      <td>1.095445</td>\n",
       "      <td>0.661642</td>\n",
       "      <td>0.400000</td>\n",
       "      <td>0.0</td>\n",
       "      <td>8-12</td>\n",
       "    </tr>\n",
       "    <tr>\n",
       "      <th>2</th>\n",
       "      <td>2</td>\n",
       "      <td>6</td>\n",
       "      <td>4.333333</td>\n",
       "      <td>11</td>\n",
       "      <td>2</td>\n",
       "      <td>4</td>\n",
       "      <td>0.333333</td>\n",
       "      <td>0.000000</td>\n",
       "      <td>0.666667</td>\n",
       "      <td>1.632993</td>\n",
       "      <td>1.154701</td>\n",
       "      <td>0.773706</td>\n",
       "      <td>0.500000</td>\n",
       "      <td>0.0</td>\n",
       "      <td>8-12</td>\n",
       "    </tr>\n",
       "    <tr>\n",
       "      <th>3</th>\n",
       "      <td>3</td>\n",
       "      <td>12</td>\n",
       "      <td>5.250000</td>\n",
       "      <td>27</td>\n",
       "      <td>4</td>\n",
       "      <td>8</td>\n",
       "      <td>0.250000</td>\n",
       "      <td>0.166667</td>\n",
       "      <td>0.500000</td>\n",
       "      <td>1.732051</td>\n",
       "      <td>1.224745</td>\n",
       "      <td>0.721057</td>\n",
       "      <td>0.583333</td>\n",
       "      <td>0.0</td>\n",
       "      <td>8-12</td>\n",
       "    </tr>\n",
       "    <tr>\n",
       "      <th>4</th>\n",
       "      <td>4</td>\n",
       "      <td>8</td>\n",
       "      <td>5.500000</td>\n",
       "      <td>19</td>\n",
       "      <td>3</td>\n",
       "      <td>5</td>\n",
       "      <td>0.125000</td>\n",
       "      <td>0.250000</td>\n",
       "      <td>0.750000</td>\n",
       "      <td>2.121320</td>\n",
       "      <td>1.500000</td>\n",
       "      <td>0.861654</td>\n",
       "      <td>0.625000</td>\n",
       "      <td>0.0</td>\n",
       "      <td>8-12</td>\n",
       "    </tr>\n",
       "    <tr>\n",
       "      <th>...</th>\n",
       "      <td>...</td>\n",
       "      <td>...</td>\n",
       "      <td>...</td>\n",
       "      <td>...</td>\n",
       "      <td>...</td>\n",
       "      <td>...</td>\n",
       "      <td>...</td>\n",
       "      <td>...</td>\n",
       "      <td>...</td>\n",
       "      <td>...</td>\n",
       "      <td>...</td>\n",
       "      <td>...</td>\n",
       "      <td>...</td>\n",
       "      <td>...</td>\n",
       "      <td>...</td>\n",
       "    </tr>\n",
       "    <tr>\n",
       "      <th>95</th>\n",
       "      <td>95</td>\n",
       "      <td>6</td>\n",
       "      <td>5.166667</td>\n",
       "      <td>13</td>\n",
       "      <td>2</td>\n",
       "      <td>4</td>\n",
       "      <td>0.000000</td>\n",
       "      <td>0.333333</td>\n",
       "      <td>0.666667</td>\n",
       "      <td>1.632993</td>\n",
       "      <td>1.154701</td>\n",
       "      <td>0.773706</td>\n",
       "      <td>0.333333</td>\n",
       "      <td>0.0</td>\n",
       "      <td>6-12</td>\n",
       "    </tr>\n",
       "    <tr>\n",
       "      <th>96</th>\n",
       "      <td>96</td>\n",
       "      <td>8</td>\n",
       "      <td>4.375000</td>\n",
       "      <td>16</td>\n",
       "      <td>4</td>\n",
       "      <td>4</td>\n",
       "      <td>0.125000</td>\n",
       "      <td>0.250000</td>\n",
       "      <td>0.625000</td>\n",
       "      <td>1.767767</td>\n",
       "      <td>1.250000</td>\n",
       "      <td>0.773976</td>\n",
       "      <td>0.625000</td>\n",
       "      <td>0.0</td>\n",
       "      <td>6-12</td>\n",
       "    </tr>\n",
       "    <tr>\n",
       "      <th>97</th>\n",
       "      <td>97</td>\n",
       "      <td>15</td>\n",
       "      <td>4.800000</td>\n",
       "      <td>33</td>\n",
       "      <td>5</td>\n",
       "      <td>10</td>\n",
       "      <td>0.133333</td>\n",
       "      <td>0.133333</td>\n",
       "      <td>0.333333</td>\n",
       "      <td>1.290994</td>\n",
       "      <td>0.912871</td>\n",
       "      <td>0.594316</td>\n",
       "      <td>0.266667</td>\n",
       "      <td>0.0</td>\n",
       "      <td>6-12</td>\n",
       "    </tr>\n",
       "    <tr>\n",
       "      <th>98</th>\n",
       "      <td>98</td>\n",
       "      <td>2</td>\n",
       "      <td>4.000000</td>\n",
       "      <td>4</td>\n",
       "      <td>0</td>\n",
       "      <td>2</td>\n",
       "      <td>0.500000</td>\n",
       "      <td>0.000000</td>\n",
       "      <td>1.000000</td>\n",
       "      <td>1.414214</td>\n",
       "      <td>1.000000</td>\n",
       "      <td>1.000000</td>\n",
       "      <td>0.500000</td>\n",
       "      <td>0.0</td>\n",
       "      <td>6-12</td>\n",
       "    </tr>\n",
       "    <tr>\n",
       "      <th>99</th>\n",
       "      <td>99</td>\n",
       "      <td>4</td>\n",
       "      <td>6.000000</td>\n",
       "      <td>10</td>\n",
       "      <td>0</td>\n",
       "      <td>4</td>\n",
       "      <td>0.000000</td>\n",
       "      <td>0.250000</td>\n",
       "      <td>1.000000</td>\n",
       "      <td>2.000000</td>\n",
       "      <td>1.414214</td>\n",
       "      <td>1.000000</td>\n",
       "      <td>0.750000</td>\n",
       "      <td>0.0</td>\n",
       "      <td>6-12</td>\n",
       "    </tr>\n",
       "  </tbody>\n",
       "</table>\n",
       "<p>100 rows × 15 columns</p>\n",
       "</div>"
      ],
      "text/plain": [
       "    Title  Word Count  AVG Word Length  Total Syllables  MONOSYLL  POLYSYLL  \\\n",
       "0       0          10         5.100000               21         4         6   \n",
       "1       1          15         5.066667               34         4        11   \n",
       "2       2           6         4.333333               11         2         4   \n",
       "3       3          12         5.250000               27         4         8   \n",
       "4       4           8         5.500000               19         3         5   \n",
       "..    ...         ...              ...              ...       ...       ...   \n",
       "95     95           6         5.166667               13         2         4   \n",
       "96     96           8         4.375000               16         4         4   \n",
       "97     97          15         4.800000               33         5        10   \n",
       "98     98           2         4.000000                4         0         2   \n",
       "99     99           4         6.000000               10         0         4   \n",
       "\n",
       "         NTR       VTR       TTR  Root TTR  Corrected TTR  BiLog TTR  \\\n",
       "0   0.200000  0.100000  0.600000  1.897367       1.341641   0.778151   \n",
       "1   0.266667  0.066667  0.400000  1.549193       1.095445   0.661642   \n",
       "2   0.333333  0.000000  0.666667  1.632993       1.154701   0.773706   \n",
       "3   0.250000  0.166667  0.500000  1.732051       1.224745   0.721057   \n",
       "4   0.125000  0.250000  0.750000  2.121320       1.500000   0.861654   \n",
       "..       ...       ...       ...       ...            ...        ...   \n",
       "95  0.000000  0.333333  0.666667  1.632993       1.154701   0.773706   \n",
       "96  0.125000  0.250000  0.625000  1.767767       1.250000   0.773976   \n",
       "97  0.133333  0.133333  0.333333  1.290994       0.912871   0.594316   \n",
       "98  0.500000  0.000000  1.000000  1.414214       1.000000   1.000000   \n",
       "99  0.000000  0.250000  1.000000  2.000000       1.414214   1.000000   \n",
       "\n",
       "          LD  FWTR Age Classification  \n",
       "0   0.400000   0.0               8-12  \n",
       "1   0.400000   0.0               8-12  \n",
       "2   0.500000   0.0               8-12  \n",
       "3   0.583333   0.0               8-12  \n",
       "4   0.625000   0.0               8-12  \n",
       "..       ...   ...                ...  \n",
       "95  0.333333   0.0               6-12  \n",
       "96  0.625000   0.0               6-12  \n",
       "97  0.266667   0.0               6-12  \n",
       "98  0.500000   0.0               6-12  \n",
       "99  0.750000   0.0               6-12  \n",
       "\n",
       "[100 rows x 15 columns]"
      ]
     },
     "execution_count": 9,
     "metadata": {},
     "output_type": "execute_result"
    }
   ],
   "source": [
    "path = os.getcwd()\n",
    "text_features = pd.read_csv(path + \"/sentence.csv\")\n",
    "text_features_header = ['Title', 'Word Count', 'AVG Word Length', 'Total Syllables', 'MONOSYLL', 'POLYSYLL', 'NTR', 'VTR', \n",
    "                        'TTR', 'Root TTR', 'Corrected TTR', 'BiLog TTR', 'LD', 'FWTR', 'Age Classification']\n",
    "\n",
    "text_features"
   ]
  },
  {
   "cell_type": "code",
   "execution_count": 70,
   "metadata": {},
   "outputs": [],
   "source": [
    "X = text_features[text_features_header[:-1]].values\n",
    "y = text_features[['Age Classification']].values.ravel()\n",
    "\n",
    "X_train, X_test, y_train, y_test = train_test_split(X, y, test_size=0.3)\n",
    "\n",
    "scaler = StandardScaler()\n",
    "X_train_scaled = scaler.fit_transform(X_train)\n",
    "X_test_scaled = scaler.transform(X_test)"
   ]
  },
  {
   "cell_type": "markdown",
   "metadata": {},
   "source": [
    "### Logistic Regression"
   ]
  },
  {
   "cell_type": "code",
   "execution_count": 74,
   "metadata": {},
   "outputs": [
    {
     "name": "stdout",
     "output_type": "stream",
     "text": [
      "Predictions:  ['6-12' '8-16' '6-12' '8-12' '6-12' '6-12' '8-16' '8-16' '8-12' '6-12'\n",
      " '6-12' '8-12' '8-16' '6-12' '6-12' '8-12' '8-16' '6-12' '8-16' '8-12'\n",
      " '8-16' '6-12' '8-12' '6-12' '8-12' '8-12' '8-16' '8-12' '8-12' '8-12']\n",
      "Accuracy: 0.5\n",
      "Confusion Matrix:\n",
      "[[7 4 3]\n",
      " [1 5 2]\n",
      " [3 2 3]]\n"
     ]
    }
   ],
   "source": [
    "logreg = LogisticRegression(max_iter=1000)\n",
    "logreg.fit(X_train_scaled, y_train)\n",
    "\n",
    "titles_test_samples = text_features.loc[X_test[:, 0], 'Title']\n",
    "\n",
    "lr_pred = logreg.predict(X_test_scaled)\n",
    "print(\"Predictions: \", lr_pred)\n",
    "# print(\"Titles of test samples:\")\n",
    "# for title in titles_test_samples:\n",
    "#     print(title)\n",
    "\n",
    "accuracy = accuracy_score(y_test, lr_pred)\n",
    "conf_matrix = confusion_matrix(y_test, lr_pred)\n",
    "\n",
    "print(f'Accuracy: {accuracy}')\n",
    "print(f'Confusion Matrix:\\n{conf_matrix}')"
   ]
  },
  {
   "cell_type": "markdown",
   "metadata": {},
   "source": [
    "### K-Nearest Neighbors"
   ]
  },
  {
   "cell_type": "code",
   "execution_count": 75,
   "metadata": {},
   "outputs": [
    {
     "name": "stdout",
     "output_type": "stream",
     "text": [
      "Predictions:  ['6-12' '8-16' '6-12' '8-12' '6-12' '8-12' '8-16' '8-12' '6-12' '6-12'\n",
      " '8-12' '8-16' '6-12' '6-12' '8-16' '8-16' '8-16' '6-12' '6-12' '8-12'\n",
      " '8-16' '8-12' '6-12' '8-12' '8-12' '6-12' '8-16' '6-12' '6-12' '8-12']\n",
      "Accuracy: 0.5666666666666667\n",
      "Confusion Matrix:\n",
      "[[8 2 4]\n",
      " [1 6 1]\n",
      " [4 1 3]]\n"
     ]
    },
    {
     "name": "stderr",
     "output_type": "stream",
     "text": [
      "/Users/jerseydayao/opt/anaconda3/lib/python3.9/site-packages/sklearn/neighbors/_classification.py:228: FutureWarning: Unlike other reduction functions (e.g. `skew`, `kurtosis`), the default behavior of `mode` typically preserves the axis it acts along. In SciPy 1.11.0, this behavior will change: the default value of `keepdims` will become False, the `axis` over which the statistic is taken will be eliminated, and the value None will no longer be accepted. Set `keepdims` to True or False to avoid this warning.\n",
      "  mode, _ = stats.mode(_y[neigh_ind, k], axis=1)\n"
     ]
    }
   ],
   "source": [
    "knn = KNeighborsClassifier(n_neighbors=3)\n",
    "\n",
    "knn.fit(X_train_scaled, y_train)\n",
    "\n",
    "knn_pred = knn.predict(X_test_scaled)\n",
    "print(\"Predictions: \", knn_pred)\n",
    "\n",
    "accuracy = accuracy_score(y_test, knn_pred)\n",
    "conf_matrix = confusion_matrix(y_test, knn_pred)\n",
    "\n",
    "print(f'Accuracy: {accuracy}')\n",
    "print(f'Confusion Matrix:\\n{conf_matrix}')"
   ]
  },
  {
   "cell_type": "markdown",
   "metadata": {},
   "source": [
    "### Random Forest"
   ]
  },
  {
   "cell_type": "code",
   "execution_count": 76,
   "metadata": {},
   "outputs": [
    {
     "name": "stdout",
     "output_type": "stream",
     "text": [
      "Predictions:  ['6-12' '6-12' '8-16' '8-12' '6-12' '8-12' '8-16' '8-12' '8-12' '8-16'\n",
      " '6-12' '6-12' '6-12' '8-16' '8-16' '8-16' '8-16' '6-12' '6-12' '8-12'\n",
      " '8-12' '6-12' '6-12' '6-12' '8-12' '6-12' '8-16' '6-12' '8-16' '8-12']\n",
      "Accuracy: 0.6333333333333333\n",
      "Confusion Matrix:\n",
      "[[8 1 5]\n",
      " [1 7 0]\n",
      " [4 0 4]]\n"
     ]
    }
   ],
   "source": [
    "rf = RandomForestClassifier()\n",
    "rf.fit(X_train_scaled, y_train)\n",
    "\n",
    "rf_pred = rf.predict(X_test_scaled)\n",
    "print(\"Predictions: \", rf_pred)\n",
    "\n",
    "accuracy = accuracy_score(y_test, rf_pred)\n",
    "conf_matrix = confusion_matrix(y_test, rf_pred)\n",
    "print(\"Accuracy:\", accuracy)\n",
    "print(f'Confusion Matrix:\\n{conf_matrix}')"
   ]
  },
  {
   "cell_type": "markdown",
   "metadata": {},
   "source": [
    "### Support Vector Machine"
   ]
  },
  {
   "cell_type": "code",
   "execution_count": 77,
   "metadata": {},
   "outputs": [
    {
     "name": "stdout",
     "output_type": "stream",
     "text": [
      "Predictions:  ['6-12' '8-16' '6-12' '8-12' '6-12' '6-12' '8-16' '6-12' '8-12' '6-12'\n",
      " '6-12' '6-12' '6-12' '6-12' '6-12' '8-12' '8-16' '6-12' '8-16' '8-12'\n",
      " '8-16' '6-12' '8-12' '6-12' '8-12' '8-12' '8-16' '8-12' '6-12' '8-12']\n",
      "Accuracy: 0.6\n",
      "Confusion Matrix:\n",
      "[[10  2  2]\n",
      " [ 2  5  1]\n",
      " [ 3  2  3]]\n"
     ]
    }
   ],
   "source": [
    "clf_svm = svm.SVC(kernel='linear')\n",
    "\n",
    "clf_svm.fit(X_train_scaled, y_train)\n",
    "\n",
    "svm_pred = clf_svm.predict(X_test_scaled)\n",
    "print(\"Predictions: \", svm_pred)\n",
    "\n",
    "accuracy = accuracy_score(y_test, svm_pred)\n",
    "conf_matrix = confusion_matrix(y_test, svm_pred)\n",
    "print(\"Accuracy:\", accuracy)\n",
    "print(f'Confusion Matrix:\\n{conf_matrix}')"
   ]
  },
  {
   "cell_type": "markdown",
   "metadata": {},
   "source": [
    "## Decision Trees"
   ]
  },
  {
   "cell_type": "code",
   "execution_count": 79,
   "metadata": {},
   "outputs": [
    {
     "name": "stdout",
     "output_type": "stream",
     "text": [
      "Accuracy: 0.7333333333333333\n"
     ]
    }
   ],
   "source": [
    "# Create Decision Tree classifer object\n",
    "clf = DecisionTreeClassifier()\n",
    "\n",
    "# Train Decision Tree Classifer\n",
    "clf = clf.fit(X_train,y_train)\n",
    "\n",
    "#Predict the response for test dataset\n",
    "y_pred = clf.predict(X_test)\n",
    "\n",
    "# Model Accuracy, how often is the classifier correct?\n",
    "print(\"Accuracy:\",metrics.accuracy_score(y_test, y_pred))\n"
   ]
  },
  {
   "cell_type": "markdown",
   "metadata": {},
   "source": [
    "## Ensemble Methods"
   ]
  },
  {
   "cell_type": "markdown",
   "metadata": {},
   "source": [
    "Create meta-model"
   ]
  },
  {
   "cell_type": "code",
   "execution_count": null,
   "metadata": {},
   "outputs": [],
   "source": [
    "# used Stacking based on this source: https://www.geeksforgeeks.org/stacking-in-machine-learning-2/\n",
    "# meta-model used: Linear Regression\n",
    "\n",
    "meta_model = LogisticRegression()"
   ]
  },
  {
   "cell_type": "markdown",
   "metadata": {},
   "source": [
    "#### LR + SVM"
   ]
  },
  {
   "cell_type": "code",
   "execution_count": null,
   "metadata": {},
   "outputs": [
    {
     "name": "stdout",
     "output_type": "stream",
     "text": [
      "Predictions:  [ 9 12]\n",
      "Accuracy: 0.5\n",
      "Confusion Matrix:\n",
      "[[0 0 0]\n",
      " [1 0 0]\n",
      " [0 0 1]]\n"
     ]
    }
   ],
   "source": [
    "lr_svm_stack = StackingClassifier(classifiers =[logreg, clf_svm], meta_classifier = meta_model)\n",
    "\n",
    "model_stack = lr_svm_stack.fit(X_train_scaled, y_train)\n",
    "pred_stack = model_stack.predict(X_test_scaled)\n",
    "print(\"Predictions: \", pred_stack)\n",
    "\n",
    "accuracy = accuracy_score(y_test, pred_stack)\n",
    "conf_matrix = confusion_matrix(y_test, pred_stack)\n",
    "print(\"Accuracy:\", accuracy)\n",
    "print(f'Confusion Matrix:\\n{conf_matrix}')"
   ]
  },
  {
   "cell_type": "markdown",
   "metadata": {},
   "source": [
    "#### LR + KNN"
   ]
  },
  {
   "cell_type": "code",
   "execution_count": null,
   "metadata": {},
   "outputs": [
    {
     "name": "stdout",
     "output_type": "stream",
     "text": [
      "Predictions:  [ 9 12]\n",
      "Accuracy: 0.5\n",
      "Confusion Matrix:\n",
      "[[0 0 0]\n",
      " [1 0 0]\n",
      " [0 0 1]]\n"
     ]
    }
   ],
   "source": [
    "lr_knn_stack = StackingClassifier(classifiers =[logreg, knn], meta_classifier = meta_model)\n",
    "\n",
    "model_stack = lr_knn_stack.fit(X_train_scaled, y_train)\n",
    "pred_stack = model_stack.predict(X_test_scaled)\n",
    "print(\"Predictions: \", pred_stack)\n",
    "\n",
    "accuracy = accuracy_score(y_test, pred_stack)\n",
    "conf_matrix = confusion_matrix(y_test, pred_stack)\n",
    "print(\"Accuracy:\", accuracy)\n",
    "print(f'Confusion Matrix:\\n{conf_matrix}')"
   ]
  },
  {
   "cell_type": "markdown",
   "metadata": {},
   "source": [
    "#### LR + RF"
   ]
  },
  {
   "cell_type": "code",
   "execution_count": null,
   "metadata": {},
   "outputs": [
    {
     "name": "stdout",
     "output_type": "stream",
     "text": [
      "Predictions:  [ 9 12]\n",
      "Accuracy: 0.5\n",
      "Confusion Matrix:\n",
      "[[0 0 0]\n",
      " [1 0 0]\n",
      " [0 0 1]]\n"
     ]
    }
   ],
   "source": [
    "lr_rf_stack = StackingClassifier(classifiers =[logreg, rf], meta_classifier = meta_model)\n",
    "\n",
    "model_stack = lr_rf_stack.fit(X_train_scaled, y_train)\n",
    "pred_stack = model_stack.predict(X_test_scaled)\n",
    "print(\"Predictions: \", pred_stack)\n",
    "\n",
    "accuracy = accuracy_score(y_test, pred_stack)\n",
    "conf_matrix = confusion_matrix(y_test, pred_stack)\n",
    "print(\"Accuracy:\", accuracy)\n",
    "print(f'Confusion Matrix:\\n{conf_matrix}')"
   ]
  },
  {
   "cell_type": "markdown",
   "metadata": {},
   "source": [
    "#### SVM + KNN"
   ]
  },
  {
   "cell_type": "code",
   "execution_count": null,
   "metadata": {},
   "outputs": [
    {
     "name": "stdout",
     "output_type": "stream",
     "text": [
      "Predictions:  [ 9 12]\n",
      "Accuracy: 0.5\n",
      "Confusion Matrix:\n",
      "[[0 0 0]\n",
      " [1 0 0]\n",
      " [0 0 1]]\n"
     ]
    }
   ],
   "source": [
    "svm_knn_stack = StackingClassifier(classifiers =[clf_svm, knn], meta_classifier = meta_model)\n",
    "\n",
    "model_stack = svm_knn_stack.fit(X_train_scaled, y_train)\n",
    "pred_stack = model_stack.predict(X_test_scaled)\n",
    "print(\"Predictions: \", pred_stack)\n",
    "\n",
    "accuracy = accuracy_score(y_test, pred_stack)\n",
    "conf_matrix = confusion_matrix(y_test, pred_stack)\n",
    "print(\"Accuracy:\", accuracy)\n",
    "print(f'Confusion Matrix:\\n{conf_matrix}')"
   ]
  },
  {
   "cell_type": "markdown",
   "metadata": {},
   "source": [
    "#### SVM + RF"
   ]
  },
  {
   "cell_type": "code",
   "execution_count": null,
   "metadata": {},
   "outputs": [
    {
     "name": "stdout",
     "output_type": "stream",
     "text": [
      "Predictions:  [ 9 12]\n",
      "Accuracy: 0.5\n",
      "Confusion Matrix:\n",
      "[[0 0 0]\n",
      " [1 0 0]\n",
      " [0 0 1]]\n"
     ]
    }
   ],
   "source": [
    "svm_rf_stack = StackingClassifier(classifiers =[clf_svm, rf], meta_classifier = meta_model)\n",
    "\n",
    "model_stack = svm_rf_stack.fit(X_train_scaled, y_train)\n",
    "pred_stack = model_stack.predict(X_test_scaled)\n",
    "print(\"Predictions: \", pred_stack)\n",
    "\n",
    "accuracy = accuracy_score(y_test, pred_stack)\n",
    "conf_matrix = confusion_matrix(y_test, pred_stack)\n",
    "print(\"Accuracy:\", accuracy)\n",
    "print(f'Confusion Matrix:\\n{conf_matrix}')"
   ]
  },
  {
   "cell_type": "markdown",
   "metadata": {},
   "source": [
    "#### KNN + RF"
   ]
  },
  {
   "cell_type": "code",
   "execution_count": null,
   "metadata": {},
   "outputs": [],
   "source": [
    "knn_rf_stack = StackingClassifier(classifiers =[knn, rf], meta_classifier = meta_model)\n",
    "\n",
    "model_stack = knn_rf_stack.fit(X_train_scaled, y_train)\n",
    "pred_stack = model_stack.predict(X_test_scaled)\n",
    "print(\"Predictions: \", pred_stack)\n",
    "\n",
    "accuracy = accuracy_score(y_test, pred_stack)\n",
    "conf_matrix = confusion_matrix(y_test, pred_stack)\n",
    "print(\"Accuracy:\", accuracy)\n",
    "print(f'Confusion Matrix:\\n{conf_matrix}')"
   ]
  }
 ],
 "metadata": {
  "kernelspec": {
   "display_name": "Python 3",
   "language": "python",
   "name": "python3"
  },
  "language_info": {
   "codemirror_mode": {
    "name": "ipython",
    "version": 3
   },
   "file_extension": ".py",
   "mimetype": "text/x-python",
   "name": "python",
   "nbconvert_exporter": "python",
   "pygments_lexer": "ipython3",
   "version": "3.9.13"
  }
 },
 "nbformat": 4,
 "nbformat_minor": 2
}
