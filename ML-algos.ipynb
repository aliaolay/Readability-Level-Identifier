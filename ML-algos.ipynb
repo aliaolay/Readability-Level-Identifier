{
 "cells": [
  {
   "cell_type": "markdown",
   "metadata": {},
   "source": [
    "# Machine Learning Algorithms Testing"
   ]
  },
  {
   "cell_type": "code",
   "execution_count": 62,
   "metadata": {},
   "outputs": [],
   "source": [
    "import os\n",
    "import pandas as pd\n",
    "from os import path\n",
    "import numpy as np\n",
    "\n",
    "\n",
    "from sklearn.model_selection import train_test_split\n",
    "from sklearn.metrics import accuracy_score, confusion_matrix\n",
    "from sklearn.preprocessing import MultiLabelBinarizer\n",
    "\n",
    "#LR libraries\n",
    "from sklearn.linear_model import LogisticRegression\n",
    "from sklearn.preprocessing import StandardScaler\n",
    "\n",
    "#KNN libraries\n",
    "from sklearn.neighbors import KNeighborsClassifier\n",
    "import matplotlib.pyplot as plt\n",
    "\n",
    "#RF libraries\n",
    "# source - https://www.datacamp.com/tutorial/random-forests-classifier-python\n",
    "from sklearn.ensemble import RandomForestClassifier\n",
    "from sklearn.metrics import precision_score, recall_score, ConfusionMatrixDisplay\n",
    "from sklearn.model_selection import RandomizedSearchCV\n",
    "\n",
    "#SVM libraries\n",
    "from sklearn import svm\n",
    "from sklearn.svm import SVC\n",
    "from sklearn.preprocessing import StandardScaler\n",
    "\n",
    "# DT\n",
    "from sklearn.tree import DecisionTreeClassifier # Import Decision Tree Classifier\n",
    "from sklearn.model_selection import train_test_split # Import train_test_split function\n",
    "from sklearn import metrics #Import scikit-learn metrics module for accuracy calculation\n",
    "\n",
    "# #Ensemble\n",
    "# from mlxtend.classifier import StackingClassifier"
   ]
  },
  {
   "cell_type": "code",
   "execution_count": 90,
   "metadata": {},
   "outputs": [
    {
     "data": {
      "text/html": [
       "<div>\n",
       "<style scoped>\n",
       "    .dataframe tbody tr th:only-of-type {\n",
       "        vertical-align: middle;\n",
       "    }\n",
       "\n",
       "    .dataframe tbody tr th {\n",
       "        vertical-align: top;\n",
       "    }\n",
       "\n",
       "    .dataframe thead th {\n",
       "        text-align: right;\n",
       "    }\n",
       "</style>\n",
       "<table border=\"1\" class=\"dataframe\">\n",
       "  <thead>\n",
       "    <tr style=\"text-align: right;\">\n",
       "      <th></th>\n",
       "      <th>Unnamed: 0</th>\n",
       "      <th>Word Count</th>\n",
       "      <th>Sentence Count</th>\n",
       "      <th>AVG Word Length</th>\n",
       "      <th>AVG Sentence Length</th>\n",
       "      <th>Total Syllables</th>\n",
       "      <th>MONOSYLL</th>\n",
       "      <th>POLYSYLL</th>\n",
       "      <th>NTR</th>\n",
       "      <th>VTR</th>\n",
       "      <th>TTR</th>\n",
       "      <th>Root TTR</th>\n",
       "      <th>Corrected TTR</th>\n",
       "      <th>BiLog TTR</th>\n",
       "      <th>LD</th>\n",
       "      <th>FWTR</th>\n",
       "      <th>AGE</th>\n",
       "    </tr>\n",
       "  </thead>\n",
       "  <tbody>\n",
       "    <tr>\n",
       "      <th>0</th>\n",
       "      <td>0</td>\n",
       "      <td>1177</td>\n",
       "      <td>137</td>\n",
       "      <td>5.084112</td>\n",
       "      <td>8.591241</td>\n",
       "      <td>2491</td>\n",
       "      <td>379</td>\n",
       "      <td>797</td>\n",
       "      <td>0.178177</td>\n",
       "      <td>0.104972</td>\n",
       "      <td>0.007597</td>\n",
       "      <td>0.289074</td>\n",
       "      <td>0.204406</td>\n",
       "      <td>0.329475</td>\n",
       "      <td>0.381906</td>\n",
       "      <td>0.016575</td>\n",
       "      <td>8-16</td>\n",
       "    </tr>\n",
       "    <tr>\n",
       "      <th>1</th>\n",
       "      <td>1</td>\n",
       "      <td>1365</td>\n",
       "      <td>132</td>\n",
       "      <td>5.021245</td>\n",
       "      <td>10.340909</td>\n",
       "      <td>2896</td>\n",
       "      <td>498</td>\n",
       "      <td>867</td>\n",
       "      <td>0.191083</td>\n",
       "      <td>0.134395</td>\n",
       "      <td>0.007006</td>\n",
       "      <td>0.277615</td>\n",
       "      <td>0.196303</td>\n",
       "      <td>0.325853</td>\n",
       "      <td>0.407643</td>\n",
       "      <td>0.012102</td>\n",
       "      <td>8-16</td>\n",
       "    </tr>\n",
       "    <tr>\n",
       "      <th>2</th>\n",
       "      <td>2</td>\n",
       "      <td>1279</td>\n",
       "      <td>97</td>\n",
       "      <td>5.036747</td>\n",
       "      <td>13.185567</td>\n",
       "      <td>2596</td>\n",
       "      <td>511</td>\n",
       "      <td>766</td>\n",
       "      <td>0.192617</td>\n",
       "      <td>0.100000</td>\n",
       "      <td>0.007383</td>\n",
       "      <td>0.284970</td>\n",
       "      <td>0.201504</td>\n",
       "      <td>0.328185</td>\n",
       "      <td>0.405369</td>\n",
       "      <td>0.015436</td>\n",
       "      <td>8-16</td>\n",
       "    </tr>\n",
       "    <tr>\n",
       "      <th>3</th>\n",
       "      <td>3</td>\n",
       "      <td>876</td>\n",
       "      <td>75</td>\n",
       "      <td>4.965753</td>\n",
       "      <td>11.680000</td>\n",
       "      <td>1824</td>\n",
       "      <td>276</td>\n",
       "      <td>600</td>\n",
       "      <td>0.195192</td>\n",
       "      <td>0.103846</td>\n",
       "      <td>0.010577</td>\n",
       "      <td>0.341096</td>\n",
       "      <td>0.241191</td>\n",
       "      <td>0.345171</td>\n",
       "      <td>0.388462</td>\n",
       "      <td>0.001923</td>\n",
       "      <td>6-12</td>\n",
       "    </tr>\n",
       "    <tr>\n",
       "      <th>4</th>\n",
       "      <td>4</td>\n",
       "      <td>975</td>\n",
       "      <td>92</td>\n",
       "      <td>5.103590</td>\n",
       "      <td>10.597826</td>\n",
       "      <td>2089</td>\n",
       "      <td>336</td>\n",
       "      <td>638</td>\n",
       "      <td>0.145889</td>\n",
       "      <td>0.139699</td>\n",
       "      <td>0.009726</td>\n",
       "      <td>0.327086</td>\n",
       "      <td>0.231284</td>\n",
       "      <td>0.341053</td>\n",
       "      <td>0.416446</td>\n",
       "      <td>0.002653</td>\n",
       "      <td>8-12</td>\n",
       "    </tr>\n",
       "    <tr>\n",
       "      <th>5</th>\n",
       "      <td>5</td>\n",
       "      <td>552</td>\n",
       "      <td>69</td>\n",
       "      <td>5.146739</td>\n",
       "      <td>8.000000</td>\n",
       "      <td>1177</td>\n",
       "      <td>188</td>\n",
       "      <td>363</td>\n",
       "      <td>0.129851</td>\n",
       "      <td>0.129851</td>\n",
       "      <td>0.016418</td>\n",
       "      <td>0.424967</td>\n",
       "      <td>0.300497</td>\n",
       "      <td>0.368494</td>\n",
       "      <td>0.374627</td>\n",
       "      <td>0.007463</td>\n",
       "      <td>6-12</td>\n",
       "    </tr>\n",
       "    <tr>\n",
       "      <th>6</th>\n",
       "      <td>6</td>\n",
       "      <td>1601</td>\n",
       "      <td>120</td>\n",
       "      <td>5.451593</td>\n",
       "      <td>13.341667</td>\n",
       "      <td>3610</td>\n",
       "      <td>604</td>\n",
       "      <td>996</td>\n",
       "      <td>0.175055</td>\n",
       "      <td>0.143326</td>\n",
       "      <td>0.006018</td>\n",
       "      <td>0.257279</td>\n",
       "      <td>0.181924</td>\n",
       "      <td>0.319252</td>\n",
       "      <td>0.407549</td>\n",
       "      <td>0.004376</td>\n",
       "      <td>6-12</td>\n",
       "    </tr>\n",
       "    <tr>\n",
       "      <th>7</th>\n",
       "      <td>7</td>\n",
       "      <td>900</td>\n",
       "      <td>72</td>\n",
       "      <td>4.900000</td>\n",
       "      <td>12.500000</td>\n",
       "      <td>1844</td>\n",
       "      <td>332</td>\n",
       "      <td>563</td>\n",
       "      <td>0.136999</td>\n",
       "      <td>0.105312</td>\n",
       "      <td>0.010252</td>\n",
       "      <td>0.335809</td>\n",
       "      <td>0.237453</td>\n",
       "      <td>0.343626</td>\n",
       "      <td>0.367195</td>\n",
       "      <td>0.033551</td>\n",
       "      <td>6-12</td>\n",
       "    </tr>\n",
       "    <tr>\n",
       "      <th>8</th>\n",
       "      <td>8</td>\n",
       "      <td>937</td>\n",
       "      <td>95</td>\n",
       "      <td>5.145144</td>\n",
       "      <td>9.863158</td>\n",
       "      <td>2018</td>\n",
       "      <td>321</td>\n",
       "      <td>615</td>\n",
       "      <td>0.171946</td>\n",
       "      <td>0.103167</td>\n",
       "      <td>0.009955</td>\n",
       "      <td>0.330911</td>\n",
       "      <td>0.233990</td>\n",
       "      <td>0.342185</td>\n",
       "      <td>0.412670</td>\n",
       "      <td>0.021719</td>\n",
       "      <td>8-12</td>\n",
       "    </tr>\n",
       "    <tr>\n",
       "      <th>9</th>\n",
       "      <td>9</td>\n",
       "      <td>973</td>\n",
       "      <td>85</td>\n",
       "      <td>5.302158</td>\n",
       "      <td>11.447059</td>\n",
       "      <td>2096</td>\n",
       "      <td>299</td>\n",
       "      <td>665</td>\n",
       "      <td>0.212914</td>\n",
       "      <td>0.113438</td>\n",
       "      <td>0.009599</td>\n",
       "      <td>0.324938</td>\n",
       "      <td>0.229766</td>\n",
       "      <td>0.340415</td>\n",
       "      <td>0.403141</td>\n",
       "      <td>0.017452</td>\n",
       "      <td>8-12</td>\n",
       "    </tr>\n",
       "  </tbody>\n",
       "</table>\n",
       "</div>"
      ],
      "text/plain": [
       "   Unnamed: 0  Word Count  Sentence Count  AVG Word Length  \\\n",
       "0           0        1177             137         5.084112   \n",
       "1           1        1365             132         5.021245   \n",
       "2           2        1279              97         5.036747   \n",
       "3           3         876              75         4.965753   \n",
       "4           4         975              92         5.103590   \n",
       "5           5         552              69         5.146739   \n",
       "6           6        1601             120         5.451593   \n",
       "7           7         900              72         4.900000   \n",
       "8           8         937              95         5.145144   \n",
       "9           9         973              85         5.302158   \n",
       "\n",
       "   AVG Sentence Length  Total Syllables  MONOSYLL  POLYSYLL       NTR  \\\n",
       "0             8.591241             2491       379       797  0.178177   \n",
       "1            10.340909             2896       498       867  0.191083   \n",
       "2            13.185567             2596       511       766  0.192617   \n",
       "3            11.680000             1824       276       600  0.195192   \n",
       "4            10.597826             2089       336       638  0.145889   \n",
       "5             8.000000             1177       188       363  0.129851   \n",
       "6            13.341667             3610       604       996  0.175055   \n",
       "7            12.500000             1844       332       563  0.136999   \n",
       "8             9.863158             2018       321       615  0.171946   \n",
       "9            11.447059             2096       299       665  0.212914   \n",
       "\n",
       "        VTR       TTR  Root TTR  Corrected TTR  BiLog TTR        LD      FWTR  \\\n",
       "0  0.104972  0.007597  0.289074       0.204406   0.329475  0.381906  0.016575   \n",
       "1  0.134395  0.007006  0.277615       0.196303   0.325853  0.407643  0.012102   \n",
       "2  0.100000  0.007383  0.284970       0.201504   0.328185  0.405369  0.015436   \n",
       "3  0.103846  0.010577  0.341096       0.241191   0.345171  0.388462  0.001923   \n",
       "4  0.139699  0.009726  0.327086       0.231284   0.341053  0.416446  0.002653   \n",
       "5  0.129851  0.016418  0.424967       0.300497   0.368494  0.374627  0.007463   \n",
       "6  0.143326  0.006018  0.257279       0.181924   0.319252  0.407549  0.004376   \n",
       "7  0.105312  0.010252  0.335809       0.237453   0.343626  0.367195  0.033551   \n",
       "8  0.103167  0.009955  0.330911       0.233990   0.342185  0.412670  0.021719   \n",
       "9  0.113438  0.009599  0.324938       0.229766   0.340415  0.403141  0.017452   \n",
       "\n",
       "    AGE  \n",
       "0  8-16  \n",
       "1  8-16  \n",
       "2  8-16  \n",
       "3  6-12  \n",
       "4  8-12  \n",
       "5  6-12  \n",
       "6  6-12  \n",
       "7  6-12  \n",
       "8  8-12  \n",
       "9  8-12  "
      ]
     },
     "execution_count": 90,
     "metadata": {},
     "output_type": "execute_result"
    }
   ],
   "source": [
    "path = os.getcwd()\n",
    "text_features = pd.read_csv(path + \"/book.csv\")\n",
    "text_features_header = list(text_features.columns)\n",
    "\n",
    "text_features"
   ]
  },
  {
   "cell_type": "code",
   "execution_count": 126,
   "metadata": {},
   "outputs": [],
   "source": [
    "# # tried multi-binarizing stuff here\n",
    "# # decisions trees lang gumana,,, other algos don't support it :_(\n",
    "\n",
    "# data = text_features['AGE'].apply(lambda x: [x]).tolist()\n",
    "# print(data)\n",
    "# mlb = MultiLabelBinarizer()\n",
    "\n",
    "# encoded_data = mlb.fit_transform(data)\n",
    "\n",
    "# encoded_df = pd.DataFrame(encoded_data, columns=mlb.classes_)\n",
    "\n",
    "# print(encoded_df)\n"
   ]
  },
  {
   "cell_type": "code",
   "execution_count": 139,
   "metadata": {},
   "outputs": [],
   "source": [
    "X = text_features[text_features_header[:-1]].values\n",
    "y = text_features[['AGE']].values.ravel()\n",
    "\n",
    "X_train, X_test, y_train, y_test = train_test_split(X, y, test_size=0.2, random_state=42)\n",
    "\n",
    "scaler = StandardScaler()\n",
    "X_train_scaled = scaler.fit_transform(X_train)\n",
    "X_test_scaled = scaler.transform(X_test)"
   ]
  },
  {
   "cell_type": "markdown",
   "metadata": {},
   "source": [
    "### Logistic Regression"
   ]
  },
  {
   "cell_type": "code",
   "execution_count": 142,
   "metadata": {},
   "outputs": [
    {
     "name": "stdout",
     "output_type": "stream",
     "text": [
      "Predictions:  ['8-12' '8-16']\n",
      "Accuracy: 1.0\n",
      "Confusion Matrix:\n",
      "[[1 0]\n",
      " [0 1]]\n"
     ]
    }
   ],
   "source": [
    "logreg = LogisticRegression(max_iter=1000)\n",
    "logreg.fit(X_train_scaled, y_train)\n",
    "\n",
    "lr_pred = logreg.predict(X_test_scaled)\n",
    "print(\"Predictions: \", lr_pred)\n",
    "\n",
    "accuracy = accuracy_score(y_test, lr_pred)\n",
    "conf_matrix = confusion_matrix(y_test, lr_pred)\n",
    "\n",
    "print(f'Accuracy: {accuracy}')\n",
    "print(f'Confusion Matrix:\\n{conf_matrix}')"
   ]
  },
  {
   "cell_type": "markdown",
   "metadata": {},
   "source": [
    "### K-Nearest Neighbors"
   ]
  },
  {
   "cell_type": "code",
   "execution_count": 143,
   "metadata": {},
   "outputs": [
    {
     "name": "stdout",
     "output_type": "stream",
     "text": [
      "Predictions:  ['8-12' '8-16']\n",
      "Accuracy: 1.0\n",
      "Confusion Matrix:\n",
      "[[1 0]\n",
      " [0 1]]\n"
     ]
    },
    {
     "name": "stderr",
     "output_type": "stream",
     "text": [
      "/Users/jerseydayao/opt/anaconda3/lib/python3.9/site-packages/sklearn/neighbors/_classification.py:228: FutureWarning: Unlike other reduction functions (e.g. `skew`, `kurtosis`), the default behavior of `mode` typically preserves the axis it acts along. In SciPy 1.11.0, this behavior will change: the default value of `keepdims` will become False, the `axis` over which the statistic is taken will be eliminated, and the value None will no longer be accepted. Set `keepdims` to True or False to avoid this warning.\n",
      "  mode, _ = stats.mode(_y[neigh_ind, k], axis=1)\n"
     ]
    }
   ],
   "source": [
    "knn = KNeighborsClassifier(n_neighbors=3)\n",
    "\n",
    "knn.fit(X_train_scaled, y_train)\n",
    "\n",
    "knn_pred = knn.predict(X_test_scaled)\n",
    "print(\"Predictions: \", knn_pred)\n",
    "\n",
    "accuracy = accuracy_score(y_test, knn_pred)\n",
    "conf_matrix = confusion_matrix(y_test, knn_pred)\n",
    "\n",
    "print(f'Accuracy: {accuracy}')\n",
    "print(f'Confusion Matrix:\\n{conf_matrix}')"
   ]
  },
  {
   "cell_type": "markdown",
   "metadata": {},
   "source": [
    "### Random Forest"
   ]
  },
  {
   "cell_type": "code",
   "execution_count": 144,
   "metadata": {},
   "outputs": [
    {
     "name": "stdout",
     "output_type": "stream",
     "text": [
      "Predictions:  ['8-12' '8-16']\n",
      "Accuracy: 1.0\n",
      "Confusion Matrix:\n",
      "[[1 0]\n",
      " [0 1]]\n"
     ]
    }
   ],
   "source": [
    "rf = RandomForestClassifier(n_estimators=100, random_state=7)\n",
    "rf.fit(X_train_scaled, y_train)\n",
    "\n",
    "rf_pred = rf.predict(X_test_scaled)\n",
    "print(\"Predictions: \", rf_pred)\n",
    "\n",
    "accuracy = accuracy_score(y_test, rf_pred)\n",
    "conf_matrix = confusion_matrix(y_test, rf_pred)\n",
    "print(\"Accuracy:\", accuracy)\n",
    "print(f'Confusion Matrix:\\n{conf_matrix}')"
   ]
  },
  {
   "cell_type": "markdown",
   "metadata": {},
   "source": [
    "### Support Vector Machine"
   ]
  },
  {
   "cell_type": "code",
   "execution_count": 145,
   "metadata": {},
   "outputs": [
    {
     "name": "stdout",
     "output_type": "stream",
     "text": [
      "Predictions:  ['8-12' '8-16']\n",
      "Accuracy: 1.0\n",
      "Confusion Matrix:\n",
      "[[1 0]\n",
      " [0 1]]\n"
     ]
    }
   ],
   "source": [
    "clf_svm = svm.SVC(kernel='linear')\n",
    "\n",
    "clf_svm.fit(X_train_scaled, y_train)\n",
    "\n",
    "svm_pred = clf_svm.predict(X_test_scaled)\n",
    "print(\"Predictions: \", svm_pred)\n",
    "\n",
    "accuracy = accuracy_score(y_test, svm_pred)\n",
    "conf_matrix = confusion_matrix(y_test, svm_pred)\n",
    "print(\"Accuracy:\", accuracy)\n",
    "print(f'Confusion Matrix:\\n{conf_matrix}')"
   ]
  },
  {
   "cell_type": "markdown",
   "metadata": {},
   "source": [
    "### Decision Trees"
   ]
  },
  {
   "cell_type": "code",
   "execution_count": 146,
   "metadata": {},
   "outputs": [
    {
     "name": "stdout",
     "output_type": "stream",
     "text": [
      "Accuracy: 1.0\n"
     ]
    }
   ],
   "source": [
    "clf = DecisionTreeClassifier()\n",
    "\n",
    "clf = clf.fit(X_train,y_train)\n",
    "y_pred = clf.predict(X_test)\n",
    "\n",
    "print(\"Accuracy:\",metrics.accuracy_score(y_test, y_pred))"
   ]
  },
  {
   "cell_type": "markdown",
   "metadata": {},
   "source": [
    "## Ensemble Methods"
   ]
  },
  {
   "cell_type": "markdown",
   "metadata": {},
   "source": [
    "Create meta-model"
   ]
  },
  {
   "cell_type": "code",
   "execution_count": 224,
   "metadata": {},
   "outputs": [],
   "source": [
    "# used Stacking based on this source: https://www.geeksforgeeks.org/stacking-in-machine-learning-2/\n",
    "# meta-model used: Linear Regression\n",
    "\n",
    "meta_model = LogisticRegression()"
   ]
  },
  {
   "cell_type": "markdown",
   "metadata": {},
   "source": [
    "#### LR + SVM"
   ]
  },
  {
   "cell_type": "code",
   "execution_count": 225,
   "metadata": {},
   "outputs": [
    {
     "name": "stdout",
     "output_type": "stream",
     "text": [
      "Predictions:  [ 9 12]\n",
      "Accuracy: 0.5\n",
      "Confusion Matrix:\n",
      "[[0 0 0]\n",
      " [1 0 0]\n",
      " [0 0 1]]\n"
     ]
    }
   ],
   "source": [
    "lr_svm_stack = StackingClassifier(classifiers =[logreg, clf_svm], meta_classifier = meta_model)\n",
    "\n",
    "model_stack = lr_svm_stack.fit(X_train_scaled, y_train)\n",
    "pred_stack = model_stack.predict(X_test_scaled)\n",
    "print(\"Predictions: \", pred_stack)\n",
    "\n",
    "accuracy = accuracy_score(y_test, pred_stack)\n",
    "conf_matrix = confusion_matrix(y_test, pred_stack)\n",
    "print(\"Accuracy:\", accuracy)\n",
    "print(f'Confusion Matrix:\\n{conf_matrix}')"
   ]
  },
  {
   "cell_type": "markdown",
   "metadata": {},
   "source": [
    "#### LR + KNN"
   ]
  },
  {
   "cell_type": "code",
   "execution_count": 226,
   "metadata": {},
   "outputs": [
    {
     "name": "stdout",
     "output_type": "stream",
     "text": [
      "Predictions:  [ 9 12]\n",
      "Accuracy: 0.5\n",
      "Confusion Matrix:\n",
      "[[0 0 0]\n",
      " [1 0 0]\n",
      " [0 0 1]]\n"
     ]
    }
   ],
   "source": [
    "lr_knn_stack = StackingClassifier(classifiers =[logreg, knn], meta_classifier = meta_model)\n",
    "\n",
    "model_stack = lr_knn_stack.fit(X_train_scaled, y_train)\n",
    "pred_stack = model_stack.predict(X_test_scaled)\n",
    "print(\"Predictions: \", pred_stack)\n",
    "\n",
    "accuracy = accuracy_score(y_test, pred_stack)\n",
    "conf_matrix = confusion_matrix(y_test, pred_stack)\n",
    "print(\"Accuracy:\", accuracy)\n",
    "print(f'Confusion Matrix:\\n{conf_matrix}')"
   ]
  },
  {
   "cell_type": "markdown",
   "metadata": {},
   "source": [
    "#### LR + RF"
   ]
  },
  {
   "cell_type": "code",
   "execution_count": 227,
   "metadata": {},
   "outputs": [
    {
     "name": "stdout",
     "output_type": "stream",
     "text": [
      "Predictions:  [ 9 12]\n",
      "Accuracy: 0.5\n",
      "Confusion Matrix:\n",
      "[[0 0 0]\n",
      " [1 0 0]\n",
      " [0 0 1]]\n"
     ]
    }
   ],
   "source": [
    "lr_rf_stack = StackingClassifier(classifiers =[logreg, rf], meta_classifier = meta_model)\n",
    "\n",
    "model_stack = lr_rf_stack.fit(X_train_scaled, y_train)\n",
    "pred_stack = model_stack.predict(X_test_scaled)\n",
    "print(\"Predictions: \", pred_stack)\n",
    "\n",
    "accuracy = accuracy_score(y_test, pred_stack)\n",
    "conf_matrix = confusion_matrix(y_test, pred_stack)\n",
    "print(\"Accuracy:\", accuracy)\n",
    "print(f'Confusion Matrix:\\n{conf_matrix}')"
   ]
  },
  {
   "cell_type": "markdown",
   "metadata": {},
   "source": [
    "#### SVM + KNN"
   ]
  },
  {
   "cell_type": "code",
   "execution_count": 228,
   "metadata": {},
   "outputs": [
    {
     "name": "stdout",
     "output_type": "stream",
     "text": [
      "Predictions:  [ 9 12]\n",
      "Accuracy: 0.5\n",
      "Confusion Matrix:\n",
      "[[0 0 0]\n",
      " [1 0 0]\n",
      " [0 0 1]]\n"
     ]
    }
   ],
   "source": [
    "svm_knn_stack = StackingClassifier(classifiers =[clf_svm, knn], meta_classifier = meta_model)\n",
    "\n",
    "model_stack = svm_knn_stack.fit(X_train_scaled, y_train)\n",
    "pred_stack = model_stack.predict(X_test_scaled)\n",
    "print(\"Predictions: \", pred_stack)\n",
    "\n",
    "accuracy = accuracy_score(y_test, pred_stack)\n",
    "conf_matrix = confusion_matrix(y_test, pred_stack)\n",
    "print(\"Accuracy:\", accuracy)\n",
    "print(f'Confusion Matrix:\\n{conf_matrix}')"
   ]
  },
  {
   "cell_type": "markdown",
   "metadata": {},
   "source": [
    "#### SVM + RF"
   ]
  },
  {
   "cell_type": "code",
   "execution_count": 229,
   "metadata": {},
   "outputs": [
    {
     "name": "stdout",
     "output_type": "stream",
     "text": [
      "Predictions:  [ 9 12]\n",
      "Accuracy: 0.5\n",
      "Confusion Matrix:\n",
      "[[0 0 0]\n",
      " [1 0 0]\n",
      " [0 0 1]]\n"
     ]
    }
   ],
   "source": [
    "svm_rf_stack = StackingClassifier(classifiers =[clf_svm, rf], meta_classifier = meta_model)\n",
    "\n",
    "model_stack = svm_rf_stack.fit(X_train_scaled, y_train)\n",
    "pred_stack = model_stack.predict(X_test_scaled)\n",
    "print(\"Predictions: \", pred_stack)\n",
    "\n",
    "accuracy = accuracy_score(y_test, pred_stack)\n",
    "conf_matrix = confusion_matrix(y_test, pred_stack)\n",
    "print(\"Accuracy:\", accuracy)\n",
    "print(f'Confusion Matrix:\\n{conf_matrix}')"
   ]
  },
  {
   "cell_type": "markdown",
   "metadata": {},
   "source": [
    "#### KNN + RF"
   ]
  },
  {
   "cell_type": "code",
   "execution_count": null,
   "metadata": {},
   "outputs": [],
   "source": [
    "knn_rf_stack = StackingClassifier(classifiers =[knn, rf], meta_classifier = meta_model)\n",
    "\n",
    "model_stack = knn_rf_stack.fit(X_train_scaled, y_train)\n",
    "pred_stack = model_stack.predict(X_test_scaled)\n",
    "print(\"Predictions: \", pred_stack)\n",
    "\n",
    "accuracy = accuracy_score(y_test, pred_stack)\n",
    "conf_matrix = confusion_matrix(y_test, pred_stack)\n",
    "print(\"Accuracy:\", accuracy)\n",
    "print(f'Confusion Matrix:\\n{conf_matrix}')"
   ]
  }
 ],
 "metadata": {
  "kernelspec": {
   "display_name": "Python 3",
   "language": "python",
   "name": "python3"
  },
  "language_info": {
   "codemirror_mode": {
    "name": "ipython",
    "version": 3
   },
   "file_extension": ".py",
   "mimetype": "text/x-python",
   "name": "python",
   "nbconvert_exporter": "python",
   "pygments_lexer": "ipython3",
   "version": "3.9.13"
  }
 },
 "nbformat": 4,
 "nbformat_minor": 2
}
