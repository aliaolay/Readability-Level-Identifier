{
 "cells": [
  {
   "cell_type": "markdown",
   "metadata": {},
   "source": [
    "# Text Feature Extractor (Book Level)\n",
    "_Click 'Run All' to extract text features from a book input._\n",
    "***"
   ]
  },
  {
   "cell_type": "markdown",
   "metadata": {},
   "source": [
    "## Traditional Text Features"
   ]
  },
  {
   "cell_type": "markdown",
   "metadata": {},
   "source": [
    "#### Library Imports"
   ]
  },
  {
   "cell_type": "code",
   "execution_count": 17,
   "metadata": {},
   "outputs": [
    {
     "name": "stdout",
     "output_type": "stream",
     "text": [
      "c:\\Users\\Alia\\Documents\\school\\THESIS\\Readability-Level-Identifier\n"
     ]
    },
    {
     "name": "stderr",
     "output_type": "stream",
     "text": [
      "[nltk_data] Downloading package punkt to\n",
      "[nltk_data]     C:\\Users\\Alia\\AppData\\Roaming\\nltk_data...\n",
      "[nltk_data]   Package punkt is already up-to-date!\n"
     ]
    }
   ],
   "source": [
    "#import libraries for traditional text features\n",
    "import os\n",
    "from os import path\n",
    "\n",
    "import nltk\n",
    "from nltk.tokenize import word_tokenize\n",
    "from nltk.tokenize import sent_tokenize\n",
    "from nltk.probability import FreqDist\n",
    "import string\n",
    "import re\n",
    "import syllables\n",
    "import csv\n",
    "import pandas as pd\n",
    "import numpy as np\n",
    "from PIL import Image\n",
    "from wordcloud import WordCloud, STOPWORDS, ImageColorGenerator\n",
    "\n",
    "import stopwordsiso\n",
    "from stopwordsiso import stopwords\n",
    "\n",
    "import matplotlib.pyplot as plt\n",
    "\n",
    "nltk.download('punkt')\n",
    "\n",
    "#import libraries for lexical text features\n",
    "import os\n",
    "import nltk\n",
    "from nltk import *\n",
    "from nltk.tag.stanford import StanfordPOSTagger\n",
    "from nltk.tokenize import word_tokenize\n",
    "import math\n",
    "\n",
    "\n",
    "# should work now without having to change the path every time a new user runs the program\n",
    "curr_path = os.getcwd().replace('\\clean-txt', '')\n",
    "\n",
    "# POS-Tagger SET UP\n",
    "# input local path to java.exe\n",
    "java_path = \"C:/Program Files/Java/jre1.8.0_341/bin/java.exe\" \n",
    "os.environ[\"JAVAHOME\"] = java_path\n",
    "\n",
    "#path to POS tagger jar\n",
    "\n",
    "os.chdir(curr_path)\n",
    "\n",
    "print(curr_path)\n",
    "jar =  curr_path + \"/stanford-postagger.jar\"\n",
    "\n",
    "# path to POS tagger model\n",
    "model_path = curr_path +\"/POSTagger/\"\n",
    "model = model_path + \"filipino-left5words-owlqn2-distsim-pref6-inf2.tagger\"\n",
    "\n",
    "pos_tagger = StanfordPOSTagger(model, jar, encoding = \"utf-8\")"
   ]
  },
  {
   "cell_type": "markdown",
   "metadata": {},
   "source": [
    "#### File Input"
   ]
  },
  {
   "cell_type": "code",
   "execution_count": 18,
   "metadata": {},
   "outputs": [],
   "source": [
    "# path = os.getcwd() + \"/clean-txt/\"      # gets path to 'clean-txt' directory\n",
    "# filename = input(\"Input text filename: \")"
   ]
  },
  {
   "cell_type": "markdown",
   "metadata": {},
   "source": [
    "#### Word Counter"
   ]
  },
  {
   "cell_type": "code",
   "execution_count": 19,
   "metadata": {},
   "outputs": [],
   "source": [
    "def word_count(text):\n",
    "    words = text.split()\n",
    "    return len(words)"
   ]
  },
  {
   "cell_type": "markdown",
   "metadata": {},
   "source": [
    "#### Sentence Counter"
   ]
  },
  {
   "cell_type": "code",
   "execution_count": 20,
   "metadata": {},
   "outputs": [],
   "source": [
    "# folder = nltk.data.find(path)\n",
    "# corpusReader = nltk.corpus.PlaintextCorpusReader(folder, filename)\n",
    "\n",
    "# print(\"Number of Sentences: \", len(corpusReader.sents()))\n",
    "\n",
    "def sentence_count(text):\n",
    "    sents = nltk.sent_tokenize(text)\n",
    "    return len(sents)"
   ]
  },
  {
   "cell_type": "markdown",
   "metadata": {},
   "source": [
    "#### Average Word Length"
   ]
  },
  {
   "cell_type": "code",
   "execution_count": 21,
   "metadata": {},
   "outputs": [],
   "source": [
    "# with open(path + \"/\" + filename, 'r') as file:\n",
    "#     word_length = [len(word) for line in file for word in line.rstrip().split(\" \")]\n",
    "#     word_avg = sum(word_length)/len(word_length)\n",
    "    \n",
    "# print(\"Average Word Length: \", word_avg, \"letters\")\n",
    "\n",
    "def avg_word_length(text):\n",
    "    words = text.split()\n",
    "    total_word_length = sum(len(word) for word in words)\n",
    "    avg = total_word_length / len(words)\n",
    "\n",
    "    return avg\n",
    "\n",
    "# print(\"Average Word Length: \", avg_word_length, \"letters\")"
   ]
  },
  {
   "cell_type": "markdown",
   "metadata": {},
   "source": [
    "#### Average Sentence Length"
   ]
  },
  {
   "cell_type": "code",
   "execution_count": 22,
   "metadata": {},
   "outputs": [],
   "source": [
    "\n",
    "# folder = nltk.data.find(path)\n",
    "# corpusReader = nltk.corpus.PlaintextCorpusReader(folder, filename)\n",
    "\n",
    "# # SOURCE: https://stackoverflow.com/questions/35900029/average-sentence-length-for-every-text-in-corpus-python3-nltk\n",
    "# avg = sum(len(sent) for sent in corpusReader.sents()) / len(corpusReader.sents())\n",
    "# print(\"Average Sentence Length: \", avg, \"words\")\n",
    "\n",
    "def avg_sent_length(text):\n",
    "    sentences = nltk.sent_tokenize(text)\n",
    "    avg = sum(len(sent.split()) for sent in sentences) / len(sentences)\n",
    "\n",
    "    return avg\n",
    "    "
   ]
  },
  {
   "cell_type": "markdown",
   "metadata": {},
   "source": [
    "#### Total Syllables"
   ]
  },
  {
   "cell_type": "code",
   "execution_count": 23,
   "metadata": {},
   "outputs": [],
   "source": [
    "# https://github.com/itudidyay/Tagalog-Word-Syllabization-Python\n",
    "# https://pypi.org/project/syllables/\n",
    "\n",
    "vowels = 'aeiou'\n",
    "consonants = 'bcdfghjklmnpqrstvwxyz'\n",
    "\n",
    "def count_syllables(text):\n",
    "\n",
    "    total_syllables = 0\n",
    "    monosyl_count = 0\n",
    "    polysyl_count = 0\n",
    "    \n",
    "    tokens = word_tokenize(text)\n",
    "\n",
    "    for token in tokens:\n",
    "        syllable_count = 0\n",
    "        for char in token:\n",
    "            if char.lower() in vowels:\n",
    "                total_syllables += 1\n",
    "                syllable_count += 1\n",
    "        \n",
    "        # edge cases\n",
    "        if token == 'ng' or token == 'mga': # edge case ng, mga\n",
    "            total_syllables += 1\n",
    "            syllable_count += 1\n",
    "        \n",
    "        elif (('io') in token): # edge case -io in names/surnames\n",
    "            total_syllables -= 1\n",
    "            syllable_count -= 1\n",
    "            \n",
    "        if syllable_count == 1:\n",
    "            monosyl_count += 1\n",
    "        elif syllable_count > 1:\n",
    "            polysyl_count += 1\n",
    "\n",
    "    return total_syllables, monosyl_count, polysyl_count\n",
    "\n",
    "# def main():\n",
    "#     total_syllables = count_syllables(clean_input)\n",
    "\n",
    "#     print(f\"Total syllables in the text file: {total_syllables}\")\n",
    "#     print(f\"Number of monosyllabic words: {monosyl_count}\")\n",
    "#     print(f\"Number of polysyllabic words: {polysyl_count}\")\n",
    "\n",
    "# if __name__ == \"__main__\":\n",
    "#     main()"
   ]
  },
  {
   "cell_type": "markdown",
   "metadata": {},
   "source": [
    "#### Word Frequency\n",
    "> _Outputs will be placed in the 'word-freq output' folder"
   ]
  },
  {
   "cell_type": "code",
   "execution_count": 24,
   "metadata": {},
   "outputs": [],
   "source": [
    "\n",
    "# # Read the text file\n",
    "# with open(os.path.join(path, filename), 'r', encoding='utf-8') as file:\n",
    "#     text = file.read()\n",
    "\n",
    "def word_freq(filename, text):\n",
    "    stop_words = set(stopwords('tl'))\n",
    "\n",
    "    text_tokens = word_tokenize(text)\n",
    "    filtered_tokens = [word.lower() for word in text_tokens if word.lower() not in stop_words] #removes stopwords\n",
    "    text_tokens = [word for word in filtered_tokens if word.isalnum()] # removes punctuation marks\n",
    "    fdist = FreqDist(text_tokens)\n",
    "\n",
    "    # Create a DataFrame from the frequency distribution\n",
    "    df_fdist = pd.DataFrame.from_dict(fdist, orient='index', columns=['Frequency'])\n",
    "    df_fdist.index.name = 'Word'\n",
    "\n",
    "    # Sort the DataFrame by frequency in descending order\n",
    "    df_fdist_sorted = df_fdist.sort_values(by='Frequency', ascending=False)\n",
    "\n",
    "    #print(df_fdist_sorted)\n",
    "\n",
    "    out_path = os.getcwd() + \"/word-freq output\"\n",
    "    out_filename = \"[wordfreq] \" + filename.removesuffix('_cleaned.txt') + \".csv\"\n",
    "    df_fdist_sorted.to_csv(os.path.join(out_path, out_filename), encoding='utf-8')\n",
    "\n",
    "    #load in the dataframe\n",
    "    df = pd.read_csv(os.path.join(out_path, out_filename), index_col=0)\n",
    "    df.head(500)\n",
    "\n",
    "    wordcloud = WordCloud(width=800, height=800, background_color='white', min_font_size=10)\n",
    "    wordcloud.generate(' '.join(text_tokens))\n",
    "\n",
    "    plt.imshow(wordcloud, interpolation='bilinear')\n",
    "    plt.axis('off')\n",
    "    plt.show()\n",
    "\n",
    "    wordcloud.to_file(out_path + \"/wordcloud/\" + filename.removesuffix('_cleaned.txt') + \".png\")\n"
   ]
  },
  {
   "cell_type": "markdown",
   "metadata": {},
   "source": [
    "***\n",
    "***\n",
    "## Lexical Text Features"
   ]
  },
  {
   "cell_type": "markdown",
   "metadata": {},
   "source": [
    "#### Import Libraries & POS Tagger Set-up"
   ]
  },
  {
   "cell_type": "code",
   "execution_count": 25,
   "metadata": {},
   "outputs": [],
   "source": [
    "\n",
    "\n",
    "# #SET UP FOR POS TAGGER\n",
    "# # input local path to java.exe\n",
    "# java_path = \"C:/Program Files/Java/jre1.8.0_341/bin/java.exe\" \n",
    "# os.environ[\"JAVAHOME\"] = java_path\n",
    "\n",
    "# #path to POS tagger jar\n",
    "# jar_path = os.getcwd()\n",
    "# jar =  jar_path + \"/stanford-postagger.jar\"\n",
    "\n",
    "# # path to POS tagger model\n",
    "# model_path = jar_path +\"/POSTagger/\"\n",
    "# model = model_path + \"filipino-left5words-owlqn2-distsim-pref6-inf2.tagger\"\n",
    "\n",
    "# pos_tagger = StanfordPOSTagger(model, jar, encoding = \"utf-8\")"
   ]
  },
  {
   "cell_type": "markdown",
   "metadata": {},
   "source": [
    "#### Input Tokenization & POS Tagging"
   ]
  },
  {
   "cell_type": "code",
   "execution_count": 26,
   "metadata": {},
   "outputs": [],
   "source": [
    "# with open(os.path.join(path, filename), 'r', encoding='utf-8') as file:\n",
    "#     text = file.read()\n",
    "\n",
    "# words = nltk.word_tokenize(text)\n",
    "\n",
    "# #tag tokenized words\n",
    "# tagged_words = pos_tagger.tag(words)"
   ]
  },
  {
   "cell_type": "markdown",
   "metadata": {},
   "source": [
    "#### Noun-Token Ratio"
   ]
  },
  {
   "cell_type": "code",
   "execution_count": 27,
   "metadata": {},
   "outputs": [],
   "source": [
    "# # NOUN COUNT\n",
    "# noun_count = 0\n",
    "# for word, tag in tagged_words:\n",
    "#     tag = tag.split('|')[-1] #removes word before |\n",
    "#     if tag.startswith('NN'):\n",
    "#         noun_count += 1\n",
    "    \n",
    "# print(\"Number of nouns: \", noun_count)\n",
    "\n",
    "# # NOUN TOKEN RATIO\n",
    "# # = noun_count/total_token_count\n",
    "# total_token_count = len(words)\n",
    "# noun_token_ratio = noun_count/total_token_count\n",
    "\n",
    "# print(\"Total number of tokens: \", total_token_count)\n",
    "# print(\"Noun-Token Ratio: \", noun_token_ratio)\n",
    "\n",
    "def ntr(words, tagged):\n",
    "\n",
    "    # NOUN COUNT\n",
    "    noun_count = 0\n",
    "    for word, tag in tagged:\n",
    "        tag = tag.split('|')[-1] #removes word before |\n",
    "        if tag.startswith('NN'):\n",
    "            noun_count += 1\n",
    "        \n",
    "    # print(\"Number of nouns: \", noun_count)\n",
    "\n",
    "    # NOUN TOKEN RATIO\n",
    "    # = noun_count/total_token_count\n",
    "    total_token_count = len(words)\n",
    "    noun_token_ratio = noun_count/total_token_count\n",
    "\n",
    "    return noun_token_ratio\n",
    "\n",
    "# print(\"Total number of tokens: \", total_token_count)\n",
    "# print(\"Noun-Token Ratio: \", noun_token_ratio)"
   ]
  },
  {
   "cell_type": "markdown",
   "metadata": {},
   "source": [
    "#### Verb-Token Ratio"
   ]
  },
  {
   "cell_type": "code",
   "execution_count": 28,
   "metadata": {},
   "outputs": [],
   "source": [
    "def vtr(words, tagged):\n",
    "    # VERB COUNT\n",
    "    verb_count = 0\n",
    "    for word, tag in tagged:\n",
    "        tag = tag.split('|')[-1] #removes word before |\n",
    "        if tag.startswith('VB'):\n",
    "            verb_count += 1\n",
    "            \n",
    "    # print(\"Number of verbs: \", verb_count)\n",
    "\n",
    "    # VERB TOKEN RATIO\n",
    "    # = verb_count/total_token_count\n",
    "    total_token_count = len(words)\n",
    "    verb_token_ratio = verb_count/total_token_count\n",
    "\n",
    "    return verb_token_ratio\n",
    "\n",
    "# print(\"Total number of tokens: \", total_token_count)\n",
    "# print(\"Noun-Token Ratio: \", verb_token_ratio)"
   ]
  },
  {
   "cell_type": "markdown",
   "metadata": {},
   "source": [
    "#### Type-Token Ratio"
   ]
  },
  {
   "cell_type": "code",
   "execution_count": 29,
   "metadata": {},
   "outputs": [],
   "source": [
    "def ttr(words, tagged):\n",
    "# count unique lexical categories\n",
    "    unique_categories = set()\n",
    "    for _, tag in tagged:\n",
    "        tag = tag.split('|')[-1] #removes word before |\n",
    "        if len(tag) >= 2:  # make sure the tag is not empty\n",
    "            category = tag[:2]  # extract the first two letters\n",
    "            unique_categories.add(category)\n",
    "\n",
    "    # print(\"Unique Categories:\", unique_categories)\n",
    "\n",
    "    #NUMBER OF UNIQUE CATEGORIES\n",
    "    num_categories = len(unique_categories)\n",
    "    # print(\"Number of Unique Categories:\", num_categories)\n",
    "\n",
    "    # TOTAL NUM OF TOKENS\n",
    "    total_token_count = len(words)\n",
    "\n",
    "    # TYPE TOKEN RATIO\n",
    "    ttr = num_categories/total_token_count\n",
    "    # print(\"Type-Token Ratio: \", ttr)\n",
    "\n",
    "    #ROOT TTR\n",
    "    root_ttr = num_categories/math.sqrt(total_token_count)\n",
    "    # print(\"Root Type-Token Ratio: \", root_ttr)\n",
    "\n",
    "    #CORR TTR\n",
    "    corr_ttr = num_categories/math.sqrt(2*total_token_count)\n",
    "    # print(\"Corrected Type-Token Ratio: \", corr_ttr)\n",
    "\n",
    "    #BILOGARITHMIC TTR\n",
    "    denominator = math.log(total_token_count)\n",
    "\n",
    "    if denominator == 0:\n",
    "        log_ttr = 0\n",
    "    else:\n",
    "        log_ttr = math.log(num_categories)/math.log(total_token_count)\n",
    "    # print(\"Bilogarithmic Type-Token Ratio: \", log_ttr)\n",
    "\n",
    "    return ttr, root_ttr, corr_ttr, log_ttr"
   ]
  },
  {
   "cell_type": "markdown",
   "metadata": {},
   "source": [
    "#### Lexical Density"
   ]
  },
  {
   "cell_type": "code",
   "execution_count": 30,
   "metadata": {},
   "outputs": [],
   "source": [
    "\n",
    "def lexical_density(words, tagged):\n",
    "\n",
    "    # NUMBER OF LEXICAL WORDS\n",
    "    # count number of nouns, verbs, adjectives, and adverbs\n",
    "    num_lexwords = 0\n",
    "    for word, tag in tagged:\n",
    "        tag = tag.split('|')[-1] #removes word before |\n",
    "        if tag.startswith('NN') or tag.startswith('VB') or tag.startswith('JJ') or tag.startswith('RB'):\n",
    "            num_lexwords += 1\n",
    "            \n",
    "    # print(\"Number of lexical words: \", num_lexwords)\n",
    "\n",
    "    # LEXICAL DENSITY\n",
    "    # = lex_density/total_token_count\n",
    "    total_token_count = len(words)\n",
    "    lex_density = num_lexwords/total_token_count\n",
    "\n",
    "    return lex_density\n",
    "\n",
    "# print(\"Total number of tokens: \", total_token_count)\n",
    "# print(\"Lexical Density: \", lex_density)"
   ]
  },
  {
   "cell_type": "markdown",
   "metadata": {},
   "source": [
    "#### Foreign Word-Token Ratio"
   ]
  },
  {
   "cell_type": "code",
   "execution_count": 31,
   "metadata": {},
   "outputs": [],
   "source": [
    "def fwtr(words, tagged):\n",
    "    # FOREIGN WORD COUNT\n",
    "    fw_count = 0\n",
    "    for word, tag in tagged:\n",
    "        tag = tag.split('|')[-1] #removes word before |\n",
    "        if tag.startswith('FW'):\n",
    "            fw_count += 1\n",
    "            \n",
    "    # print(\"Number of foreign words: \", fw_count)\n",
    "\n",
    "    # FOREIGN WORD - TOKEN RATIO\n",
    "    # = fw_count/total_token_count\n",
    "    total_token_count = len(words)\n",
    "    fw_token_ratio = fw_count/total_token_count\n",
    "\n",
    "    return fw_token_ratio\n",
    "\n",
    "# print(\"Total number of tokens: \", total_token_count)\n",
    "# print(\"Foreign Word-Token Ratio: \", fw_token_ratio)"
   ]
  },
  {
   "cell_type": "markdown",
   "metadata": {},
   "source": [
    "#### Book-Level Input"
   ]
  },
  {
   "cell_type": "code",
   "execution_count": 32,
   "metadata": {},
   "outputs": [
    {
     "name": "stdout",
     "output_type": "stream",
     "text": [
      "-------------------------------------------------\n",
      "Alamat ng Lansones\n",
      "-------------------------------------------------\n"
     ]
    },
    {
     "name": "stdout",
     "output_type": "stream",
     "text": [
      "[[513, 53, 5.144249512670565, 9.679245283018869, 1104, 158, 355, 0.15878378378378377, 0.16216216216216217, 0.016891891891891893, 0.41099746826339323, 0.29061909685954823, 0.3607084984311113, 0.3969594594594595, 0.030405405405405407, 'ï»¿8+']]\n",
      "-------------------------------------------------\n",
      "Andres Bonifacio - 1\n",
      "-------------------------------------------------\n",
      "[[513, 53, 5.144249512670565, 9.679245283018869, 1104, 158, 355, 0.15878378378378377, 0.16216216216216217, 0.016891891891891893, 0.41099746826339323, 0.29061909685954823, 0.3607084984311113, 0.3969594594594595, 0.030405405405405407, 'ï»¿8+'], [646, 52, 5.53405572755418, 12.423076923076923, 1522, 219, 427, 0.19890260631001372, 0.12482853223593965, 0.013717421124828532, 0.37037037037037035, 0.261891400439462, 0.3493172123815641, 0.3868312757201646, 0.04801097393689986, 'ï»¿6-10']]\n",
      "-------------------------------------------------\n",
      "Ang Aklatang Pusa\n",
      "-------------------------------------------------\n",
      "[[513, 53, 5.144249512670565, 9.679245283018869, 1104, 158, 355, 0.15878378378378377, 0.16216216216216217, 0.016891891891891893, 0.41099746826339323, 0.29061909685954823, 0.3607084984311113, 0.3969594594594595, 0.030405405405405407, 'ï»¿8+'], [646, 52, 5.53405572755418, 12.423076923076923, 1522, 219, 427, 0.19890260631001372, 0.12482853223593965, 0.013717421124828532, 0.37037037037037035, 0.261891400439462, 0.3493172123815641, 0.3868312757201646, 0.04801097393689986, 'ï»¿6-10'], [973, 85, 5.302158273381295, 11.447058823529412, 2096, 299, 665, 0.21291448516579406, 0.11343804537521815, 0.009598603839441536, 0.32493790519706517, 0.22976579622939625, 0.3404151155691094, 0.4031413612565445, 0.017452006980802792, 'ï»¿8-12']]\n",
      "-------------------------------------------------\n",
      "Ang Anghel ng Santa Ana\n",
      "-------------------------------------------------\n",
      "[[513, 53, 5.144249512670565, 9.679245283018869, 1104, 158, 355, 0.15878378378378377, 0.16216216216216217, 0.016891891891891893, 0.41099746826339323, 0.29061909685954823, 0.3607084984311113, 0.3969594594594595, 0.030405405405405407, 'ï»¿8+'], [646, 52, 5.53405572755418, 12.423076923076923, 1522, 219, 427, 0.19890260631001372, 0.12482853223593965, 0.013717421124828532, 0.37037037037037035, 0.261891400439462, 0.3493172123815641, 0.3868312757201646, 0.04801097393689986, 'ï»¿6-10'], [973, 85, 5.302158273381295, 11.447058823529412, 2096, 299, 665, 0.21291448516579406, 0.11343804537521815, 0.009598603839441536, 0.32493790519706517, 0.22976579622939625, 0.3404151155691094, 0.4031413612565445, 0.017452006980802792, 'ï»¿8-12'], [937, 95, 5.145144076840982, 9.863157894736842, 2018, 321, 615, 0.17194570135746606, 0.10316742081447963, 0.009954751131221719, 0.3309112606779028, 0.23398959639633435, 0.3421849224717883, 0.41266968325791853, 0.02171945701357466, 'ï»¿8-12']]\n",
      "-------------------------------------------------\n",
      "Ang Ating mga Ninuno - 1\n",
      "-------------------------------------------------\n",
      "[[513, 53, 5.144249512670565, 9.679245283018869, 1104, 158, 355, 0.15878378378378377, 0.16216216216216217, 0.016891891891891893, 0.41099746826339323, 0.29061909685954823, 0.3607084984311113, 0.3969594594594595, 0.030405405405405407, 'ï»¿8+'], [646, 52, 5.53405572755418, 12.423076923076923, 1522, 219, 427, 0.19890260631001372, 0.12482853223593965, 0.013717421124828532, 0.37037037037037035, 0.261891400439462, 0.3493172123815641, 0.3868312757201646, 0.04801097393689986, 'ï»¿6-10'], [973, 85, 5.302158273381295, 11.447058823529412, 2096, 299, 665, 0.21291448516579406, 0.11343804537521815, 0.009598603839441536, 0.32493790519706517, 0.22976579622939625, 0.3404151155691094, 0.4031413612565445, 0.017452006980802792, 'ï»¿8-12'], [937, 95, 5.145144076840982, 9.863157894736842, 2018, 321, 615, 0.17194570135746606, 0.10316742081447963, 0.009954751131221719, 0.3309112606779028, 0.23398959639633435, 0.3421849224717883, 0.41266968325791853, 0.02171945701357466, 'ï»¿8-12'], [503, 49, 5.021868787276342, 10.26530612244898, 1073, 164, 339, 0.22202797202797203, 0.09965034965034965, 0.019230769230769232, 0.45993310550389993, 0.32522181779399545, 0.377672512139675, 0.3986013986013986, 0.0017482517482517483, 'ï»¿6-10']]\n",
      "-------------------------------------------------\n",
      "Ang Batang Maraming Bawal\n",
      "-------------------------------------------------\n",
      "[[513, 53, 5.144249512670565, 9.679245283018869, 1104, 158, 355, 0.15878378378378377, 0.16216216216216217, 0.016891891891891893, 0.41099746826339323, 0.29061909685954823, 0.3607084984311113, 0.3969594594594595, 0.030405405405405407, 'ï»¿8+'], [646, 52, 5.53405572755418, 12.423076923076923, 1522, 219, 427, 0.19890260631001372, 0.12482853223593965, 0.013717421124828532, 0.37037037037037035, 0.261891400439462, 0.3493172123815641, 0.3868312757201646, 0.04801097393689986, 'ï»¿6-10'], [973, 85, 5.302158273381295, 11.447058823529412, 2096, 299, 665, 0.21291448516579406, 0.11343804537521815, 0.009598603839441536, 0.32493790519706517, 0.22976579622939625, 0.3404151155691094, 0.4031413612565445, 0.017452006980802792, 'ï»¿8-12'], [937, 95, 5.145144076840982, 9.863157894736842, 2018, 321, 615, 0.17194570135746606, 0.10316742081447963, 0.009954751131221719, 0.3309112606779028, 0.23398959639633435, 0.3421849224717883, 0.41266968325791853, 0.02171945701357466, 'ï»¿8-12'], [503, 49, 5.021868787276342, 10.26530612244898, 1073, 164, 339, 0.22202797202797203, 0.09965034965034965, 0.019230769230769232, 0.45993310550389993, 0.32522181779399545, 0.377672512139675, 0.3986013986013986, 0.0017482517482517483, 'ï»¿6-10'], [900, 72, 4.9, 12.5, 1844, 332, 563, 0.1369990680335508, 0.10531220876048462, 0.010251630941286114, 0.335809380979965, 0.23745309047699006, 0.34362594228797505, 0.36719478098788444, 0.033550792171481825, 'ï»¿6-12']]\n",
      "-------------------------------------------------\n",
      "Ang Dyip ni Mang Tomas\n",
      "-------------------------------------------------\n",
      "[[513, 53, 5.144249512670565, 9.679245283018869, 1104, 158, 355, 0.15878378378378377, 0.16216216216216217, 0.016891891891891893, 0.41099746826339323, 0.29061909685954823, 0.3607084984311113, 0.3969594594594595, 0.030405405405405407, 'ï»¿8+'], [646, 52, 5.53405572755418, 12.423076923076923, 1522, 219, 427, 0.19890260631001372, 0.12482853223593965, 0.013717421124828532, 0.37037037037037035, 0.261891400439462, 0.3493172123815641, 0.3868312757201646, 0.04801097393689986, 'ï»¿6-10'], [973, 85, 5.302158273381295, 11.447058823529412, 2096, 299, 665, 0.21291448516579406, 0.11343804537521815, 0.009598603839441536, 0.32493790519706517, 0.22976579622939625, 0.3404151155691094, 0.4031413612565445, 0.017452006980802792, 'ï»¿8-12'], [937, 95, 5.145144076840982, 9.863157894736842, 2018, 321, 615, 0.17194570135746606, 0.10316742081447963, 0.009954751131221719, 0.3309112606779028, 0.23398959639633435, 0.3421849224717883, 0.41266968325791853, 0.02171945701357466, 'ï»¿8-12'], [503, 49, 5.021868787276342, 10.26530612244898, 1073, 164, 339, 0.22202797202797203, 0.09965034965034965, 0.019230769230769232, 0.45993310550389993, 0.32522181779399545, 0.377672512139675, 0.3986013986013986, 0.0017482517482517483, 'ï»¿6-10'], [900, 72, 4.9, 12.5, 1844, 332, 563, 0.1369990680335508, 0.10531220876048462, 0.010251630941286114, 0.335809380979965, 0.23745309047699006, 0.34362594228797505, 0.36719478098788444, 0.033550792171481825, 'ï»¿6-12'], [1279, 97, 5.0367474589523065, 13.185567010309278, 2596, 511, 766, 0.19261744966442954, 0.1, 0.00738255033557047, 0.2849702680829619, 0.20150440899801073, 0.3281851732200055, 0.4053691275167785, 0.015436241610738255, 'ï»¿8-16']]\n",
      "-------------------------------------------------\n",
      "Ang Handog ni Alim\n",
      "-------------------------------------------------\n"
     ]
    },
    {
     "ename": "UnicodeDecodeError",
     "evalue": "'charmap' codec can't decode byte 0x9d in position 2915: character maps to <undefined>",
     "output_type": "error",
     "traceback": [
      "\u001b[1;31m---------------------------------------------------------------------------\u001b[0m",
      "\u001b[1;31mUnicodeDecodeError\u001b[0m                        Traceback (most recent call last)",
      "Cell \u001b[1;32mIn[32], line 95\u001b[0m\n\u001b[0;32m     93\u001b[0m     \u001b[38;5;28;01mif\u001b[39;00m file\u001b[38;5;241m.\u001b[39mendswith(\u001b[38;5;124m'\u001b[39m\u001b[38;5;124m.txt\u001b[39m\u001b[38;5;124m'\u001b[39m):\n\u001b[0;32m     94\u001b[0m         file_path \u001b[38;5;241m=\u001b[39m \u001b[38;5;124mf\u001b[39m\u001b[38;5;124m'\u001b[39m\u001b[38;5;132;01m{\u001b[39;00mpath\u001b[38;5;132;01m}\u001b[39;00m\u001b[38;5;124m/\u001b[39m\u001b[38;5;132;01m{\u001b[39;00mfile\u001b[38;5;132;01m}\u001b[39;00m\u001b[38;5;124m'\u001b[39m\n\u001b[1;32m---> 95\u001b[0m         \u001b[43mread_text_file\u001b[49m\u001b[43m(\u001b[49m\u001b[43mfile_path\u001b[49m\u001b[43m)\u001b[49m\n\u001b[0;32m     97\u001b[0m main \u001b[38;5;241m=\u001b[39m curr_path\n\u001b[0;32m     98\u001b[0m os\u001b[38;5;241m.\u001b[39mchdir(main)\n",
      "Cell \u001b[1;32mIn[32], line 21\u001b[0m, in \u001b[0;36mread_text_file\u001b[1;34m(file_path)\u001b[0m\n\u001b[0;32m     19\u001b[0m \u001b[38;5;28mmin\u001b[39m \u001b[38;5;241m=\u001b[39m \u001b[38;5;241m0\u001b[39m\n\u001b[0;32m     20\u001b[0m \u001b[38;5;28mmax\u001b[39m \u001b[38;5;241m=\u001b[39m \u001b[38;5;241m0\u001b[39m\n\u001b[1;32m---> 21\u001b[0m \u001b[38;5;28;01mfor\u001b[39;00m line \u001b[38;5;129;01min\u001b[39;00m file:\n\u001b[0;32m     22\u001b[0m \n\u001b[0;32m     23\u001b[0m     \n\u001b[0;32m     24\u001b[0m     \u001b[38;5;66;03m# added the age at Line 0 of each sentence token script          \u001b[39;00m\n\u001b[0;32m     25\u001b[0m     \u001b[38;5;28;01mif\u001b[39;00m sentence \u001b[38;5;241m==\u001b[39m \u001b[38;5;241m0\u001b[39m:\n\u001b[0;32m     26\u001b[0m         age \u001b[38;5;241m=\u001b[39m line\u001b[38;5;241m.\u001b[39mstrip()  \u001b[38;5;66;03m# output: X-Y\u001b[39;00m\n",
      "File \u001b[1;32mc:\\Users\\Alia\\AppData\\Local\\Programs\\Python\\Python310\\lib\\encodings\\cp1252.py:23\u001b[0m, in \u001b[0;36mIncrementalDecoder.decode\u001b[1;34m(self, input, final)\u001b[0m\n\u001b[0;32m     22\u001b[0m \u001b[38;5;28;01mdef\u001b[39;00m \u001b[38;5;21mdecode\u001b[39m(\u001b[38;5;28mself\u001b[39m, \u001b[38;5;28minput\u001b[39m, final\u001b[38;5;241m=\u001b[39m\u001b[38;5;28;01mFalse\u001b[39;00m):\n\u001b[1;32m---> 23\u001b[0m     \u001b[38;5;28;01mreturn\u001b[39;00m \u001b[43mcodecs\u001b[49m\u001b[38;5;241;43m.\u001b[39;49m\u001b[43mcharmap_decode\u001b[49m\u001b[43m(\u001b[49m\u001b[38;5;28;43minput\u001b[39;49m\u001b[43m,\u001b[49m\u001b[38;5;28;43mself\u001b[39;49m\u001b[38;5;241;43m.\u001b[39;49m\u001b[43merrors\u001b[49m\u001b[43m,\u001b[49m\u001b[43mdecoding_table\u001b[49m\u001b[43m)\u001b[49m[\u001b[38;5;241m0\u001b[39m]\n",
      "\u001b[1;31mUnicodeDecodeError\u001b[0m: 'charmap' codec can't decode byte 0x9d in position 2915: character maps to <undefined>"
     ]
    }
   ],
   "source": [
    "\n",
    "path = curr_path + '/clean-txt'\n",
    "os.chdir(path)\n",
    "\n",
    "csv_header = ['Word Count', 'Sentence Count', 'AVG Word Length', 'AVG Sentence Length', 'Total Syllables', 'MONOSYLL', 'POLYSYLL', 'NTR', 'VTR', 'TTR', 'Root TTR', 'Corrected TTR', 'BiLog TTR', 'LD', 'FWTR', 'AGE']\n",
    "data = []\n",
    "\n",
    "def read_text_file(file_path):\n",
    "    path, file_name = os.path.split(file_path)\n",
    "    suffix = '_cleaned.txt'\n",
    "    if file_name.lower().endswith(suffix.lower()):\n",
    "        file_name = file_name[: -len(suffix)]   # e.g. Tahan na Tahanan\n",
    "\n",
    "    with open(file_path, 'r', encoding='utf-8-sig') as file:\n",
    "        print('-------------------------------------------------')\n",
    "        print(file_name)\n",
    "        print('-------------------------------------------------')\n",
    "        \n",
    "        sentence = 0\n",
    "        min = 0\n",
    "        max = 0\n",
    "        for line in file:\n",
    "\n",
    "            \n",
    "            # added the age at Line 0 of each sentence token script          \n",
    "            if sentence == 0:\n",
    "                age = line.strip()  # output: X-Y\n",
    "                \n",
    "                # min_str, max_str = age.split(\"-\")\n",
    "\n",
    "                # min = int(min_str)\n",
    "                # max = int(max_str)\n",
    "\n",
    "                sentence += 1\n",
    "                continue\n",
    "\n",
    "            # csv_data = [file_name]\n",
    "            csv_data = [] # excludes title column\n",
    "\n",
    "            # print('Sentence ', sentence)\n",
    "\n",
    "            # TRAD\n",
    "            # print('WORD COUNT: ', word_count(line))\n",
    "            csv_data.append(word_count(line))\n",
    "            \n",
    "            # print('SENTENCE COUNT: ', sentence_count(line))\n",
    "            csv_data.append(sentence_count(line))\n",
    "\n",
    "             # print('AVG WORD LENGTH: ', avg_word_length(line))\n",
    "            csv_data.append(avg_word_length(line))\n",
    "            \n",
    "            # print('AVG SENTENCE LENGTH: ', avg_sent_length(line))\n",
    "            csv_data.append(avg_sent_length(line))\n",
    "\n",
    "            # print('TOTAL SYLLABLES: ', count_syllables(line)[0])\n",
    "            # print('MONOSYLLABIC: ', count_syllables(line)[1])\n",
    "            # print('POLYSYLLABIC: ', count_syllables(line)[2])\n",
    "            csv_data.append(count_syllables(line)[0])\n",
    "            csv_data.append(count_syllables(line)[1])\n",
    "            csv_data.append(count_syllables(line)[2])\n",
    "\n",
    "\n",
    "            # LEX\n",
    "            wordsss = nltk.word_tokenize(line)\n",
    "            tagged_words = pos_tagger.tag(wordsss)\n",
    "            # print('NTR: ', ntr(wordsss, tagged_words))\n",
    "            csv_data.append(ntr(wordsss, tagged_words))\n",
    "\n",
    "            # print('VTR: ', vtr(wordsss, tagged_words))\n",
    "            csv_data.append(vtr(wordsss, tagged_words))\n",
    "\n",
    "            # print('TTR: ', ttr(wordsss, tagged_words)[0])\n",
    "            # print('Root-TTR: ', ttr(wordsss, tagged_words)[1])\n",
    "            # print('Corrected-TTR: ', ttr(wordsss, tagged_words)[2])\n",
    "            # print('Bilogarithmic-TTR: ', ttr(wordsss, tagged_words)[3])\n",
    "            csv_data.append(ttr(wordsss, tagged_words)[0])\n",
    "            csv_data.append(ttr(wordsss, tagged_words)[1])\n",
    "            csv_data.append(ttr(wordsss, tagged_words)[2])\n",
    "            csv_data.append(ttr(wordsss, tagged_words)[3])\n",
    "\n",
    "            # print('Lexical Density: ', lexical_density(wordsss, tagged_words))\n",
    "            csv_data.append(lexical_density(wordsss, tagged_words))\n",
    "\n",
    "            # print('FWTR: ', fwtr(wordsss, tagged_words))\n",
    "            csv_data.append(fwtr(wordsss, tagged_words))\n",
    "\n",
    "            csv_data.append(age)\n",
    "            data.append(csv_data)\n",
    "            print(data)\n",
    "\n",
    "    return '0'\n",
    "\n",
    "for file in os.listdir(path):\n",
    "    if file.endswith('.txt'):\n",
    "        file_path = f'{path}/{file}'\n",
    "        read_text_file(file_path)\n",
    "\n",
    "main = curr_path\n",
    "os.chdir(main)\n",
    "\n",
    "df = pd.DataFrame(data, columns = csv_header)\n",
    "df.to_csv('book.csv')"
   ]
  }
 ],
 "metadata": {
  "kernelspec": {
   "display_name": "Python 3",
   "language": "python",
   "name": "python3"
  },
  "language_info": {
   "codemirror_mode": {
    "name": "ipython",
    "version": 3
   },
   "file_extension": ".py",
   "mimetype": "text/x-python",
   "name": "python",
   "nbconvert_exporter": "python",
   "pygments_lexer": "ipython3",
   "version": "3.10.4"
  }
 },
 "nbformat": 4,
 "nbformat_minor": 2
}
